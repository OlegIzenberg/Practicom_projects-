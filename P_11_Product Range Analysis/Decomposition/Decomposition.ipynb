{
 "cells": [
  {
   "cell_type": "markdown",
   "id": "8069643f",
   "metadata": {},
   "source": [
    "# Project E-Commerce: Product Range Analysis"
   ]
  },
  {
   "cell_type": "markdown",
   "id": "33dbfbf6",
   "metadata": {},
   "source": [
    "## Project Decomposition: Oleg Izenberg "
   ]
  },
  {
   "cell_type": "markdown",
   "id": "e3e7c325",
   "metadata": {},
   "source": [
    "### Project Goal Breakdown "
   ]
  },
  {
   "cell_type": "markdown",
   "id": "168cacae",
   "metadata": {},
   "source": [
    "#### Who's is our customers?\n",
    "The primary reason why individuals choose to shop online instead of in-person is either to save time or due to limited spare time. It is important to note that the majority of household goods are considered necessities rather than luxuries.\n",
    "\n",
    "As a result, it is essential to understand the buyer persona of the target audience, which typically consists of busy homeowners who require essential goods but have limited time to shop. However, there may be some differences in the circumstances of these customers, such as requiring several items after moving, replacing worn-out items at a more leisurely pace, or urgently needing to replace an item.\n",
    "\n",
    "#### What needs to be achieved and why?\n",
    "\n",
    "To maximize customer satisfaction and drive sales growth, it is crucial to evaluate the performance of each product in a logical and unbiased manner to ensure they meet customer needs. This evaluation should include comparing individual product performance with that of the entire product range.\n",
    "\n",
    "To achieve this, it is important to obtain an accurate understanding of the current state of the product range and identify any trends. This analysis should begin by examining the product range at a high-level categorization and then drill down to specific products. Throughout this process, it is crucial to consistently compare the average metric value for the group of products with the corresponding metric value at the individual product level.\n",
    "\n",
    "#### What decisions will be made based on the analysis?\n",
    "\n",
    "The analysis can aid in making decisions regarding keeping, replacing, or removing a product based on its performance. By identifying the best-performing products and removing or replacing the underperforming ones, businesses can optimize their product offerings, increase revenue, and enhance customer satisfaction.\n",
    "\n",
    "Furthermore, we can offer substitute products when a product is out of stock, prepare for seasonal boosts in sales during specific times and dates, and make other data-driven decisions to improve their overall performance."
   ]
  },
  {
   "cell_type": "markdown",
   "id": "1f1743f0",
   "metadata": {},
   "source": [
    "### Project Goal"
   ]
  },
  {
   "cell_type": "markdown",
   "id": "eaabd846",
   "metadata": {},
   "source": [
    "The goal is to understand the target audience, evaluate each product's performance, and optimize the product range to increase customer satisfaction and drive sales growth. \n",
    "\n",
    "The analysis will help make data-driven decisions to keep, replace, or remove products and offer substitutes when products are out of stock. Seasonal sales boosts will also be considered."
   ]
  },
  {
   "cell_type": "markdown",
   "id": "720df555",
   "metadata": {},
   "source": [
    "### Tasks Breakdown:"
   ]
  },
  {
   "cell_type": "markdown",
   "id": "961e9674",
   "metadata": {},
   "source": [
    "#### Data overview and data Preprocessing  "
   ]
  },
  {
   "cell_type": "markdown",
   "id": "b4c23528",
   "metadata": {},
   "source": [
    "* Intial over view of the data in order to identify preprocessing tasks \n",
    "* Checking N/A \n",
    "* Checking Dupluicats \n",
    "* Checking data types \n",
    "* Standrize columns \n",
    "* Addding sprete columns for 'date' and 'time' \n",
    "* Total price aggregation column\n",
    "* Making a category column for the products using lemmatization"
   ]
  },
  {
   "cell_type": "markdown",
   "id": "3cbc7500",
   "metadata": {},
   "source": [
    "#### Exploratory Data Analysis"
   ]
  },
  {
   "cell_type": "markdown",
   "id": "00046d20",
   "metadata": {},
   "source": [
    "* Summery statistics\n",
    "* Unique values and counts in each column \n",
    "* Product category distribution breakdown\n",
    "* Product distribution breakdown\n",
    "* Dealing with outliers on category and product level \n",
    "* Summery statistics and distribution breakdown W/O outliers"
   ]
  },
  {
   "cell_type": "markdown",
   "id": "ac2a6a96",
   "metadata": {},
   "source": [
    "#### Product Range Analysis"
   ]
  },
  {
   "cell_type": "markdown",
   "id": "72c639f6",
   "metadata": {},
   "source": [
    "* Product category breakdown and top performing categories by the number of units sold and total price \n",
    "* Product category breakdown and top performing categories by the number of units sold and total price ( 'date' and 'time' )\n",
    "* Top performing Products with in a category by the number of units sold and total price \n",
    "* Top performing Products with in a category by the number of units sold and total price ( 'date' and 'time' )\n",
    "* Top performing Products  by the number of units sold and total price \n",
    "* Top performing Products  by the number of units sold and total price( 'date' and 'time' )\n",
    "\n",
    "Additionally: \n",
    "\n",
    "* During what time period are there more orders, including the date and time of day?\n",
    "* which items/categories are ordered together"
   ]
  },
  {
   "cell_type": "markdown",
   "id": "fe67f3f1",
   "metadata": {},
   "source": [
    "#### Statistical Hypothesis testing"
   ]
  },
  {
   "cell_type": "markdown",
   "id": "e1b65cfb",
   "metadata": {},
   "source": [
    "1. What categories or products generate the highest revenue?\n",
    "   - Hypothesis: \n",
    "     * Products with a higher price-point per unit may generate more revenue, even if they have lower sales volume.\n",
    "     * Even if they have a higher sales volume, products with a lower price per unit may not necessarily generate more revenue.\n",
    "     \n",
    "<u>The Genral approach for this Hypothesis testing will be:</u>\n",
    "1. analyzing revenue data to identify which categories or products generate the highest and lowest revenue\n",
    "2. analyzing price per unit data to identify which categories or products generate the highest and lowest price per unit\n",
    "3. Compere the total revenue and count for items with low price point and high price points\n",
    "* Use Kmeans to cluster products by price points and performance"
   ]
  },
  {
   "cell_type": "markdown",
   "id": "472c3851",
   "metadata": {},
   "source": [
    "2. Does seasonality affect revenue ?\n",
    "   - Hypothesis:\n",
    "     * Seasonal products may generate higher profits during specific times of the year\n",
    "     \n",
    "<u>The Genral approach for this Hypothesis testing will be:</u>\n",
    "1. Check the trends of total revenue per item/category by date \n",
    "2. Check the trends of total revenue per item/category by time "
   ]
  },
  {
   "cell_type": "markdown",
   "id": "d49cc258",
   "metadata": {},
   "source": [
    "3. Does top selling items that are sold with less sold items affect sales and profitabliiy? \n",
    "   - Hypothesis: \n",
    "     * Top selling items that are sold with less sold items may lead to an increase in overall sales and profitability due to \n",
    "       the \"halo effect\" where the popularity of the top selling item positively influences the less sold item.\n",
    "     * Offering less sold items as a bundle or package deal with the top selling item may encourage customers to purchase both \n",
    "       and increase overall sales and profitability.\n",
    "       \n",
    "<u>The Genral approach for this Hypothesis testing will be:</u> \n",
    "\n",
    "1. Check which items are the top sellers and least sold. \n",
    "2. Use Apriori methode to identifying an associations between products"
   ]
  },
  {
   "cell_type": "markdown",
   "id": "2dc2204a",
   "metadata": {},
   "source": [
    "4. Is there Mutually substitutive products?\n",
    "   - Hypothesis: \n",
    "     * Customers may consider some products in the product assortment as interchangeable, such that if one product is out of \n",
    "       stock they are willing to substitute it with another product\n",
    "       \n",
    "<u>The Genral approach for this Hypothesis testing will be:</u>\n",
    "1. Analyzing product sales data to identify which products are frequently sold together.\n",
    "2. Examining purchase patterns and determine which products are commonly substituted for one another.\n",
    "   (if customers frequently purchase either product A or product B in the same transaction, it suggests that these products are \n",
    "   interchangeable or substitutive)   "
   ]
  },
  {
   "cell_type": "markdown",
   "id": "061f0fa8",
   "metadata": {},
   "source": [
    "### conclusions"
   ]
  },
  {
   "cell_type": "markdown",
   "id": "698d3d77",
   "metadata": {},
   "source": [
    "I am confident that by conducting the project as per this plan, I will achieve the project's goals and provide an analysis that can help make decisions to optimize product offerings, increase revenue, and enhance customer satisfaction."
   ]
  },
  {
   "cell_type": "markdown",
   "id": "f23a9d2c",
   "metadata": {},
   "source": [
    "### References"
   ]
  },
  {
   "cell_type": "markdown",
   "id": "2673dbdb",
   "metadata": {},
   "source": [
    "https://www.dotactiv.com/blog/product-range-review\n",
    "\n",
    "https://www.beuniqueness.co.uk/solutions/household-items"
   ]
  },
  {
   "cell_type": "markdown",
   "id": "9fd95b13",
   "metadata": {},
   "source": [
    "https://mipler.com/blog/ecommerce-product-performance-analysis/"
   ]
  },
  {
   "cell_type": "markdown",
   "id": "c4fb30f3",
   "metadata": {},
   "source": [
    "https://stackabuse.com/association-rule-mining-via-apriori-algorithm-in-python/"
   ]
  },
  {
   "cell_type": "markdown",
   "id": "c22fc1a9",
   "metadata": {},
   "source": [
    "https://retalon.com/blog/product-clustering#:~:text=Product%20clusters%20are%20groups%20of,brand%2C%20function%2C%20and%20more."
   ]
  }
 ],
 "metadata": {
  "kernelspec": {
   "display_name": "Python 3 (ipykernel)",
   "language": "python",
   "name": "python3"
  },
  "language_info": {
   "codemirror_mode": {
    "name": "ipython",
    "version": 3
   },
   "file_extension": ".py",
   "mimetype": "text/x-python",
   "name": "python",
   "nbconvert_exporter": "python",
   "pygments_lexer": "ipython3",
   "version": "3.9.13"
  }
 },
 "nbformat": 4,
 "nbformat_minor": 5
}
