{
 "cells": [
  {
   "cell_type": "markdown",
   "id": "4feed88e",
   "metadata": {},
   "source": [
    "# <u>Contribute to increased revenue</u>"
   ]
  },
  {
   "cell_type": "markdown",
   "id": "42384adf",
   "metadata": {},
   "source": [
    "Together with the marketing department, i will try and go over a list of compiled hypotheses that may help boost revenue.\n",
    "I will prioritize these hypotheses, launch an A/B test, and analyze the results.\n",
    "\n",
    "The data sets will be from three different sources:\n",
    "\n",
    "1. hypotheses_us - All hypotheses and their descriptors will be included in the data set, as will user reach on a scale of 1 to \n",
    "   10 and impact on users on a scale of 1 to 10. confidence in the hypothesis with a scalar from 1 to 10, and the effort, which\n",
    "   are the resources to test a hypothesis with a scalar from 1 to 10.\n",
    "2. orders_us - This data set will include the ID identifier of the order and the user that made the order by date. In addition,\n",
    "   the revenue as well as the group to which the users belong as part of the A/B test.   \n",
    "3. visits_us - This data set includes the number of visits on the date specified in the A/B test group.\n"
   ]
  },
  {
   "cell_type": "markdown",
   "id": "c03c12b6",
   "metadata": {},
   "source": [
    "## Initialization"
   ]
  },
  {
   "cell_type": "code",
   "execution_count": 1,
   "id": "ffc626ff",
   "metadata": {},
   "outputs": [],
   "source": [
    "import pandas as pd\n",
    "import statistics\n",
    "from datetime import datetime\n",
    "import matplotlib.pyplot as plt\n",
    "from pandas.plotting import scatter_matrix\n",
    "import numpy as np\n",
    "import seaborn as sns\n",
    "from scipy import stats\n",
    "from scipy import stats as st\n",
    "import os\n",
    "from functools import reduce\n",
    "from statistics import mode\n",
    "import matplotlib as mpl\n",
    "from scipy.stats import levene\n",
    "from IPython.core.interactiveshell import InteractiveShell\n",
    "import glob\n",
    "import plotly.express as px\n",
    "import plotly.graph_objects as go\n",
    "from plotly.graph_objects import Layout\n",
    "InteractiveShell.ast_node_interactivity = 'all'\n",
    "pd.set_option(\"display.max_rows\", 100)\n",
    "pd.set_option(\"display.max_columns\", 100)\n",
    "pd.set_option(\"display.max_colwidth\", 100)"
   ]
  },
  {
   "cell_type": "markdown",
   "id": "2c31b08a",
   "metadata": {},
   "source": [
    "## Loading data"
   ]
  },
  {
   "cell_type": "code",
   "execution_count": 2,
   "id": "a7cd66e1",
   "metadata": {},
   "outputs": [],
   "source": [
    "#os.getcwd()\n",
    "#os.chdir(r'C:\\Users\\wolff\\Desktop\\Practicom_projects\\P_7')"
   ]
  },
  {
   "cell_type": "code",
   "execution_count": 3,
   "id": "70189161",
   "metadata": {},
   "outputs": [],
   "source": [
    "try:\n",
    "    hypotheses_df = pd.read_csv(r'C:\\Users\\wolff\\Desktop\\Practicom_projects\\P_7\\hypotheses_us.csv',sep=';')\n",
    "    orders_df = pd.read_csv(r'C:\\Users\\wolff\\Desktop\\Practicom_projects\\P_7\\orders_us.csv')\n",
    "    visits_df = pd.read_csv(r'C:\\Users\\wolff\\Desktop\\Practicom_projects\\P_7\\visits_us.csv')\n",
    "except:\n",
    "    hypotheses_df = pd.read_csv(r'/datasets/hypotheses_us.csv',sep=';')\n",
    "    orders_df = pd.read_csv(r'/datasets/orders_us.csv')\n",
    "    visits_df = pd.read_csv(r'/datasets/visits_us.csv')"
   ]
  },
  {
   "cell_type": "markdown",
   "id": "429eb4d7",
   "metadata": {},
   "source": [
    "## Studing genral information and prepering for analysis"
   ]
  },
  {
   "cell_type": "code",
   "execution_count": 4,
   "id": "a99d8f96",
   "metadata": {},
   "outputs": [],
   "source": [
    "def df_info(df):\n",
    "    df.info(memory_usage='deep')\n",
    "    print('')\n",
    "    print('----------------------------------------')\n",
    "    print(df.head())\n",
    "    print('')"
   ]
  },
  {
   "cell_type": "code",
   "execution_count": 5,
   "id": "65cd5c1f",
   "metadata": {
    "scrolled": true
   },
   "outputs": [
    {
     "name": "stdout",
     "output_type": "stream",
     "text": [
      "<class 'pandas.core.frame.DataFrame'>\n",
      "RangeIndex: 9 entries, 0 to 8\n",
      "Data columns (total 5 columns):\n",
      " #   Column      Non-Null Count  Dtype \n",
      "---  ------      --------------  ----- \n",
      " 0   Hypothesis  9 non-null      object\n",
      " 1   Reach       9 non-null      int64 \n",
      " 2   Impact      9 non-null      int64 \n",
      " 3   Confidence  9 non-null      int64 \n",
      " 4   Effort      9 non-null      int64 \n",
      "dtypes: int64(4), object(1)\n",
      "memory usage: 1.6 KB\n",
      "\n",
      "----------------------------------------\n",
      "                                                                                            Hypothesis  \\\n",
      "0                          Add two new channels for attracting traffic. This will bring 30% more users   \n",
      "1                                    Launch your own delivery service. This will shorten delivery time   \n",
      "2  Add product recommendation blocks to the store's site. This will increase conversion and average...   \n",
      "3  Change the category structure. This will increase conversion since users will find the products ...   \n",
      "4                     Change the background color on the main page. This will increase user engagement   \n",
      "\n",
      "   Reach  Impact  Confidence  Effort  \n",
      "0      3      10           8       6  \n",
      "1      2       5           4      10  \n",
      "2      8       3           7       3  \n",
      "3      8       3           3       8  \n",
      "4      3       1           1       1  \n",
      "\n"
     ]
    }
   ],
   "source": [
    "df_info(hypotheses_df)"
   ]
  },
  {
   "cell_type": "code",
   "execution_count": 6,
   "id": "e7496ce1",
   "metadata": {},
   "outputs": [],
   "source": [
    "hypotheses_df.columns= hypotheses_df.columns.str.lower()"
   ]
  },
  {
   "cell_type": "code",
   "execution_count": 7,
   "id": "78dade57",
   "metadata": {
    "scrolled": true
   },
   "outputs": [
    {
     "name": "stdout",
     "output_type": "stream",
     "text": [
      "Duplicates -  0\n"
     ]
    }
   ],
   "source": [
    "print('Duplicates - ',hypotheses_df.duplicated().sum())"
   ]
  },
  {
   "cell_type": "code",
   "execution_count": 8,
   "id": "c4074a9c",
   "metadata": {},
   "outputs": [
    {
     "name": "stdout",
     "output_type": "stream",
     "text": [
      "<class 'pandas.core.frame.DataFrame'>\n",
      "RangeIndex: 1197 entries, 0 to 1196\n",
      "Data columns (total 5 columns):\n",
      " #   Column         Non-Null Count  Dtype  \n",
      "---  ------         --------------  -----  \n",
      " 0   transactionId  1197 non-null   int64  \n",
      " 1   visitorId      1197 non-null   int64  \n",
      " 2   date           1197 non-null   object \n",
      " 3   revenue        1197 non-null   float64\n",
      " 4   group          1197 non-null   object \n",
      "dtypes: float64(1), int64(2), object(2)\n",
      "memory usage: 174.3 KB\n",
      "\n",
      "----------------------------------------\n",
      "   transactionId   visitorId        date  revenue group\n",
      "0     3667963787  3312258926  2019-08-15     30.4     B\n",
      "1     2804400009  3642806036  2019-08-15     15.2     B\n",
      "2     2961555356  4069496402  2019-08-15     10.2     A\n",
      "3     3797467345  1196621759  2019-08-15    155.1     B\n",
      "4     2282983706  2322279887  2019-08-15     40.5     B\n",
      "\n"
     ]
    }
   ],
   "source": [
    "df_info(orders_df)"
   ]
  },
  {
   "cell_type": "code",
   "execution_count": 9,
   "id": "5290ffbf",
   "metadata": {},
   "outputs": [],
   "source": [
    "orders_df.date = pd.to_datetime(orders_df.date, format='%Y-%m-%d',dayfirst=True)\n",
    "orders_df['group'] = orders_df['group'].astype('category')"
   ]
  },
  {
   "cell_type": "code",
   "execution_count": 10,
   "id": "aec10431",
   "metadata": {
    "scrolled": false
   },
   "outputs": [
    {
     "data": {
      "text/html": [
       "<div>\n",
       "<style scoped>\n",
       "    .dataframe tbody tr th:only-of-type {\n",
       "        vertical-align: middle;\n",
       "    }\n",
       "\n",
       "    .dataframe tbody tr th {\n",
       "        vertical-align: top;\n",
       "    }\n",
       "\n",
       "    .dataframe thead th {\n",
       "        text-align: right;\n",
       "    }\n",
       "</style>\n",
       "<table border=\"1\" class=\"dataframe\">\n",
       "  <thead>\n",
       "    <tr style=\"text-align: right;\">\n",
       "      <th></th>\n",
       "      <th>transactionId</th>\n",
       "      <th>visitorId</th>\n",
       "      <th>date</th>\n",
       "      <th>revenue</th>\n",
       "      <th>group</th>\n",
       "    </tr>\n",
       "  </thead>\n",
       "  <tbody>\n",
       "    <tr>\n",
       "      <th>56</th>\n",
       "      <td>900025958</td>\n",
       "      <td>5114589</td>\n",
       "      <td>2019-08-16</td>\n",
       "      <td>10.8</td>\n",
       "      <td>B</td>\n",
       "    </tr>\n",
       "    <tr>\n",
       "      <th>573</th>\n",
       "      <td>1887336629</td>\n",
       "      <td>6958315</td>\n",
       "      <td>2019-08-04</td>\n",
       "      <td>25.9</td>\n",
       "      <td>B</td>\n",
       "    </tr>\n",
       "    <tr>\n",
       "      <th>71</th>\n",
       "      <td>3679129301</td>\n",
       "      <td>8300375</td>\n",
       "      <td>2019-08-01</td>\n",
       "      <td>165.7</td>\n",
       "      <td>B</td>\n",
       "    </tr>\n",
       "    <tr>\n",
       "      <th>703</th>\n",
       "      <td>4293855558</td>\n",
       "      <td>8300375</td>\n",
       "      <td>2019-08-07</td>\n",
       "      <td>30.5</td>\n",
       "      <td>A</td>\n",
       "    </tr>\n",
       "    <tr>\n",
       "      <th>233</th>\n",
       "      <td>797272237</td>\n",
       "      <td>11685486</td>\n",
       "      <td>2019-08-23</td>\n",
       "      <td>100.4</td>\n",
       "      <td>A</td>\n",
       "    </tr>\n",
       "    <tr>\n",
       "      <th>...</th>\n",
       "      <td>...</td>\n",
       "      <td>...</td>\n",
       "      <td>...</td>\n",
       "      <td>...</td>\n",
       "      <td>...</td>\n",
       "    </tr>\n",
       "    <tr>\n",
       "      <th>682</th>\n",
       "      <td>1216533772</td>\n",
       "      <td>4266935830</td>\n",
       "      <td>2019-08-29</td>\n",
       "      <td>1220.2</td>\n",
       "      <td>B</td>\n",
       "    </tr>\n",
       "    <tr>\n",
       "      <th>886</th>\n",
       "      <td>51443164</td>\n",
       "      <td>4278982564</td>\n",
       "      <td>2019-08-05</td>\n",
       "      <td>385.7</td>\n",
       "      <td>A</td>\n",
       "    </tr>\n",
       "    <tr>\n",
       "      <th>576</th>\n",
       "      <td>2724331495</td>\n",
       "      <td>4279090005</td>\n",
       "      <td>2019-08-04</td>\n",
       "      <td>105.3</td>\n",
       "      <td>B</td>\n",
       "    </tr>\n",
       "    <tr>\n",
       "      <th>392</th>\n",
       "      <td>3796325351</td>\n",
       "      <td>4281247801</td>\n",
       "      <td>2019-08-25</td>\n",
       "      <td>45.6</td>\n",
       "      <td>B</td>\n",
       "    </tr>\n",
       "    <tr>\n",
       "      <th>974</th>\n",
       "      <td>836739159</td>\n",
       "      <td>4283872382</td>\n",
       "      <td>2019-08-22</td>\n",
       "      <td>60.6</td>\n",
       "      <td>B</td>\n",
       "    </tr>\n",
       "  </tbody>\n",
       "</table>\n",
       "<p>1197 rows × 5 columns</p>\n",
       "</div>"
      ],
      "text/plain": [
       "     transactionId   visitorId       date  revenue group\n",
       "56       900025958     5114589 2019-08-16     10.8     B\n",
       "573     1887336629     6958315 2019-08-04     25.9     B\n",
       "71      3679129301     8300375 2019-08-01    165.7     B\n",
       "703     4293855558     8300375 2019-08-07     30.5     A\n",
       "233      797272237    11685486 2019-08-23    100.4     A\n",
       "..             ...         ...        ...      ...   ...\n",
       "682     1216533772  4266935830 2019-08-29   1220.2     B\n",
       "886       51443164  4278982564 2019-08-05    385.7     A\n",
       "576     2724331495  4279090005 2019-08-04    105.3     B\n",
       "392     3796325351  4281247801 2019-08-25     45.6     B\n",
       "974      836739159  4283872382 2019-08-22     60.6     B\n",
       "\n",
       "[1197 rows x 5 columns]"
      ]
     },
     "execution_count": 10,
     "metadata": {},
     "output_type": "execute_result"
    }
   ],
   "source": [
    "orders_df.sort_values(by='visitorId')"
   ]
  },
  {
   "cell_type": "code",
   "execution_count": 11,
   "id": "92124efd",
   "metadata": {
    "scrolled": false
   },
   "outputs": [
    {
     "name": "stdout",
     "output_type": "stream",
     "text": [
      "There are 58 clients who participated in both groups.\n"
     ]
    }
   ],
   "source": [
    "orders_duplicated = orders_df.groupby('visitorId',as_index=False).agg({'group':'nunique'})\n",
    "duplicated_data = orders_duplicated.query('group == 2')\n",
    "print('There are {:} clients who participated in both groups.'.format(len(duplicated_data)))"
   ]
  },
  {
   "cell_type": "code",
   "execution_count": 12,
   "id": "7f58bc79",
   "metadata": {},
   "outputs": [],
   "source": [
    "duplicated_data_list = list(orders_duplicated.query('group == 2')['visitorId'])"
   ]
  },
  {
   "cell_type": "code",
   "execution_count": 13,
   "id": "605a3c0a",
   "metadata": {},
   "outputs": [
    {
     "data": {
      "text/html": [
       "<div>\n",
       "<style scoped>\n",
       "    .dataframe tbody tr th:only-of-type {\n",
       "        vertical-align: middle;\n",
       "    }\n",
       "\n",
       "    .dataframe tbody tr th {\n",
       "        vertical-align: top;\n",
       "    }\n",
       "\n",
       "    .dataframe thead th {\n",
       "        text-align: right;\n",
       "    }\n",
       "</style>\n",
       "<table border=\"1\" class=\"dataframe\">\n",
       "  <thead>\n",
       "    <tr style=\"text-align: right;\">\n",
       "      <th></th>\n",
       "      <th>transactionId</th>\n",
       "      <th>visitorId</th>\n",
       "      <th>date</th>\n",
       "      <th>revenue</th>\n",
       "      <th>group</th>\n",
       "    </tr>\n",
       "  </thead>\n",
       "  <tbody>\n",
       "    <tr>\n",
       "      <th>0</th>\n",
       "      <td>3667963787</td>\n",
       "      <td>3312258926</td>\n",
       "      <td>2019-08-15</td>\n",
       "      <td>30.4</td>\n",
       "      <td>B</td>\n",
       "    </tr>\n",
       "    <tr>\n",
       "      <th>1</th>\n",
       "      <td>2804400009</td>\n",
       "      <td>3642806036</td>\n",
       "      <td>2019-08-15</td>\n",
       "      <td>15.2</td>\n",
       "      <td>B</td>\n",
       "    </tr>\n",
       "    <tr>\n",
       "      <th>3</th>\n",
       "      <td>3797467345</td>\n",
       "      <td>1196621759</td>\n",
       "      <td>2019-08-15</td>\n",
       "      <td>155.1</td>\n",
       "      <td>B</td>\n",
       "    </tr>\n",
       "    <tr>\n",
       "      <th>4</th>\n",
       "      <td>2282983706</td>\n",
       "      <td>2322279887</td>\n",
       "      <td>2019-08-15</td>\n",
       "      <td>40.5</td>\n",
       "      <td>B</td>\n",
       "    </tr>\n",
       "    <tr>\n",
       "      <th>5</th>\n",
       "      <td>182168103</td>\n",
       "      <td>935554773</td>\n",
       "      <td>2019-08-15</td>\n",
       "      <td>35.0</td>\n",
       "      <td>B</td>\n",
       "    </tr>\n",
       "    <tr>\n",
       "      <th>...</th>\n",
       "      <td>...</td>\n",
       "      <td>...</td>\n",
       "      <td>...</td>\n",
       "      <td>...</td>\n",
       "      <td>...</td>\n",
       "    </tr>\n",
       "    <tr>\n",
       "      <th>1191</th>\n",
       "      <td>3592955527</td>\n",
       "      <td>608641596</td>\n",
       "      <td>2019-08-14</td>\n",
       "      <td>255.7</td>\n",
       "      <td>B</td>\n",
       "    </tr>\n",
       "    <tr>\n",
       "      <th>1192</th>\n",
       "      <td>2662137336</td>\n",
       "      <td>3733762160</td>\n",
       "      <td>2019-08-14</td>\n",
       "      <td>100.8</td>\n",
       "      <td>B</td>\n",
       "    </tr>\n",
       "    <tr>\n",
       "      <th>1193</th>\n",
       "      <td>2203539145</td>\n",
       "      <td>370388673</td>\n",
       "      <td>2019-08-14</td>\n",
       "      <td>50.1</td>\n",
       "      <td>A</td>\n",
       "    </tr>\n",
       "    <tr>\n",
       "      <th>1194</th>\n",
       "      <td>1807773912</td>\n",
       "      <td>573423106</td>\n",
       "      <td>2019-08-14</td>\n",
       "      <td>165.3</td>\n",
       "      <td>A</td>\n",
       "    </tr>\n",
       "    <tr>\n",
       "      <th>1196</th>\n",
       "      <td>3936777065</td>\n",
       "      <td>2108080724</td>\n",
       "      <td>2019-08-15</td>\n",
       "      <td>3120.1</td>\n",
       "      <td>B</td>\n",
       "    </tr>\n",
       "  </tbody>\n",
       "</table>\n",
       "<p>1016 rows × 5 columns</p>\n",
       "</div>"
      ],
      "text/plain": [
       "      transactionId   visitorId       date  revenue group\n",
       "0        3667963787  3312258926 2019-08-15     30.4     B\n",
       "1        2804400009  3642806036 2019-08-15     15.2     B\n",
       "3        3797467345  1196621759 2019-08-15    155.1     B\n",
       "4        2282983706  2322279887 2019-08-15     40.5     B\n",
       "5         182168103   935554773 2019-08-15     35.0     B\n",
       "...             ...         ...        ...      ...   ...\n",
       "1191     3592955527   608641596 2019-08-14    255.7     B\n",
       "1192     2662137336  3733762160 2019-08-14    100.8     B\n",
       "1193     2203539145   370388673 2019-08-14     50.1     A\n",
       "1194     1807773912   573423106 2019-08-14    165.3     A\n",
       "1196     3936777065  2108080724 2019-08-15   3120.1     B\n",
       "\n",
       "[1016 rows x 5 columns]"
      ]
     },
     "execution_count": 13,
     "metadata": {},
     "output_type": "execute_result"
    }
   ],
   "source": [
    "full_orders_df = orders_df.copy()\n",
    "orders_df = orders_df.query('visitorId not in  @duplicated_data_list')\n",
    "orders_df"
   ]
  },
  {
   "cell_type": "code",
   "execution_count": 14,
   "id": "b2a1fba4",
   "metadata": {
    "scrolled": true
   },
   "outputs": [
    {
     "name": "stdout",
     "output_type": "stream",
     "text": [
      "<class 'pandas.core.frame.DataFrame'>\n",
      "RangeIndex: 62 entries, 0 to 61\n",
      "Data columns (total 3 columns):\n",
      " #   Column  Non-Null Count  Dtype \n",
      "---  ------  --------------  ----- \n",
      " 0   date    62 non-null     object\n",
      " 1   group   62 non-null     object\n",
      " 2   visits  62 non-null     int64 \n",
      "dtypes: int64(1), object(2)\n",
      "memory usage: 8.2 KB\n",
      "\n",
      "----------------------------------------\n",
      "         date group  visits\n",
      "0  2019-08-01     A     719\n",
      "1  2019-08-02     A     619\n",
      "2  2019-08-03     A     507\n",
      "3  2019-08-04     A     717\n",
      "4  2019-08-05     A     756\n",
      "\n"
     ]
    }
   ],
   "source": [
    "df_info(visits_df)"
   ]
  },
  {
   "cell_type": "code",
   "execution_count": 15,
   "id": "b42253eb",
   "metadata": {},
   "outputs": [],
   "source": [
    "visits_df.date = pd.to_datetime(visits_df.date, format='%Y-%m-%d',dayfirst=True)\n",
    "visits_df['group'] = visits_df['group'].astype('category')"
   ]
  },
  {
   "cell_type": "code",
   "execution_count": 16,
   "id": "0a4a8794",
   "metadata": {
    "scrolled": true
   },
   "outputs": [
    {
     "name": "stdout",
     "output_type": "stream",
     "text": [
      "<class 'pandas.core.frame.DataFrame'>\n",
      "RangeIndex: 62 entries, 0 to 61\n",
      "Data columns (total 3 columns):\n",
      " #   Column  Non-Null Count  Dtype         \n",
      "---  ------  --------------  -----         \n",
      " 0   date    62 non-null     datetime64[ns]\n",
      " 1   group   62 non-null     category      \n",
      " 2   visits  62 non-null     int64         \n",
      "dtypes: category(1), datetime64[ns](1), int64(1)\n",
      "memory usage: 1.4 KB\n",
      "\n",
      "----------------------------------------\n",
      "        date group  visits\n",
      "0 2019-08-01     A     719\n",
      "1 2019-08-02     A     619\n",
      "2 2019-08-03     A     507\n",
      "3 2019-08-04     A     717\n",
      "4 2019-08-05     A     756\n",
      "\n"
     ]
    }
   ],
   "source": [
    "df_info(visits_df)"
   ]
  },
  {
   "cell_type": "markdown",
   "id": "ece10d89",
   "metadata": {},
   "source": [
    "**<u>Conclusion:</u>**\n",
    "1. Orders_df had 58 duplicates, some visitors have gotten into both group A and B\n",
    "2. Data type was changed appropriately for date format and category\n",
    "3. Columns headers changed to lower case"
   ]
  },
  {
   "cell_type": "markdown",
   "id": "47a29a39",
   "metadata": {},
   "source": [
    "## Prioritizing Hypotheses "
   ]
  },
  {
   "cell_type": "markdown",
   "id": "6ae53557",
   "metadata": {},
   "source": [
    "### ICE prioritization"
   ]
  },
  {
   "cell_type": "code",
   "execution_count": 17,
   "id": "e5923965",
   "metadata": {},
   "outputs": [],
   "source": [
    "#ice score = (impact*confidence)/effort\n",
    "hypotheses_df['ICE'] = round(((hypotheses_df['impact']*hypotheses_df['confidence'])/hypotheses_df['effort']),2)"
   ]
  },
  {
   "cell_type": "code",
   "execution_count": 18,
   "id": "6672dbc6",
   "metadata": {},
   "outputs": [
    {
     "data": {
      "text/html": [
       "<div>\n",
       "<style scoped>\n",
       "    .dataframe tbody tr th:only-of-type {\n",
       "        vertical-align: middle;\n",
       "    }\n",
       "\n",
       "    .dataframe tbody tr th {\n",
       "        vertical-align: top;\n",
       "    }\n",
       "\n",
       "    .dataframe thead th {\n",
       "        text-align: right;\n",
       "    }\n",
       "</style>\n",
       "<table border=\"1\" class=\"dataframe\">\n",
       "  <thead>\n",
       "    <tr style=\"text-align: right;\">\n",
       "      <th></th>\n",
       "      <th>hypothesis</th>\n",
       "      <th>ICE</th>\n",
       "    </tr>\n",
       "  </thead>\n",
       "  <tbody>\n",
       "    <tr>\n",
       "      <th>8</th>\n",
       "      <td>Launch a promotion that gives users discounts on their birthdays</td>\n",
       "      <td>16.20</td>\n",
       "    </tr>\n",
       "    <tr>\n",
       "      <th>0</th>\n",
       "      <td>Add two new channels for attracting traffic. This will bring 30% more users</td>\n",
       "      <td>13.33</td>\n",
       "    </tr>\n",
       "    <tr>\n",
       "      <th>7</th>\n",
       "      <td>Add a subscription form to all the main pages. This will help you compile a mailing list</td>\n",
       "      <td>11.20</td>\n",
       "    </tr>\n",
       "    <tr>\n",
       "      <th>6</th>\n",
       "      <td>Show banners with current offers and sales on the main page. This will boost conversion</td>\n",
       "      <td>8.00</td>\n",
       "    </tr>\n",
       "    <tr>\n",
       "      <th>2</th>\n",
       "      <td>Add product recommendation blocks to the store's site. This will increase conversion and average...</td>\n",
       "      <td>7.00</td>\n",
       "    </tr>\n",
       "    <tr>\n",
       "      <th>1</th>\n",
       "      <td>Launch your own delivery service. This will shorten delivery time</td>\n",
       "      <td>2.00</td>\n",
       "    </tr>\n",
       "    <tr>\n",
       "      <th>5</th>\n",
       "      <td>Add a customer review page. This will increase the number of orders</td>\n",
       "      <td>1.33</td>\n",
       "    </tr>\n",
       "    <tr>\n",
       "      <th>3</th>\n",
       "      <td>Change the category structure. This will increase conversion since users will find the products ...</td>\n",
       "      <td>1.12</td>\n",
       "    </tr>\n",
       "    <tr>\n",
       "      <th>4</th>\n",
       "      <td>Change the background color on the main page. This will increase user engagement</td>\n",
       "      <td>1.00</td>\n",
       "    </tr>\n",
       "  </tbody>\n",
       "</table>\n",
       "</div>"
      ],
      "text/plain": [
       "                                                                                            hypothesis  \\\n",
       "8                                     Launch a promotion that gives users discounts on their birthdays   \n",
       "0                          Add two new channels for attracting traffic. This will bring 30% more users   \n",
       "7             Add a subscription form to all the main pages. This will help you compile a mailing list   \n",
       "6              Show banners with current offers and sales on the main page. This will boost conversion   \n",
       "2  Add product recommendation blocks to the store's site. This will increase conversion and average...   \n",
       "1                                    Launch your own delivery service. This will shorten delivery time   \n",
       "5                                  Add a customer review page. This will increase the number of orders   \n",
       "3  Change the category structure. This will increase conversion since users will find the products ...   \n",
       "4                     Change the background color on the main page. This will increase user engagement   \n",
       "\n",
       "     ICE  \n",
       "8  16.20  \n",
       "0  13.33  \n",
       "7  11.20  \n",
       "6   8.00  \n",
       "2   7.00  \n",
       "1   2.00  \n",
       "5   1.33  \n",
       "3   1.12  \n",
       "4   1.00  "
      ]
     },
     "execution_count": 18,
     "metadata": {},
     "output_type": "execute_result"
    }
   ],
   "source": [
    "ICE = hypotheses_df[['hypothesis','ICE']].sort_values(by='ICE',ascending=False)\n",
    "ICE"
   ]
  },
  {
   "cell_type": "markdown",
   "id": "78ec9d82",
   "metadata": {},
   "source": [
    "### RICE prioritization"
   ]
  },
  {
   "cell_type": "code",
   "execution_count": 19,
   "id": "b0b7cd4a",
   "metadata": {},
   "outputs": [],
   "source": [
    "#ice score = (reach*impact*confidence)/effort\n",
    "hypotheses_df['RICE'] = round(((hypotheses_df['reach']*hypotheses_df['impact']*hypotheses_df['confidence'])/\n",
    "                               hypotheses_df['effort']),2)"
   ]
  },
  {
   "cell_type": "code",
   "execution_count": 20,
   "id": "458ec97a",
   "metadata": {},
   "outputs": [
    {
     "data": {
      "text/html": [
       "<div>\n",
       "<style scoped>\n",
       "    .dataframe tbody tr th:only-of-type {\n",
       "        vertical-align: middle;\n",
       "    }\n",
       "\n",
       "    .dataframe tbody tr th {\n",
       "        vertical-align: top;\n",
       "    }\n",
       "\n",
       "    .dataframe thead th {\n",
       "        text-align: right;\n",
       "    }\n",
       "</style>\n",
       "<table border=\"1\" class=\"dataframe\">\n",
       "  <thead>\n",
       "    <tr style=\"text-align: right;\">\n",
       "      <th></th>\n",
       "      <th>hypothesis</th>\n",
       "      <th>RICE</th>\n",
       "    </tr>\n",
       "  </thead>\n",
       "  <tbody>\n",
       "    <tr>\n",
       "      <th>7</th>\n",
       "      <td>Add a subscription form to all the main pages. This will help you compile a mailing list</td>\n",
       "      <td>112.0</td>\n",
       "    </tr>\n",
       "    <tr>\n",
       "      <th>2</th>\n",
       "      <td>Add product recommendation blocks to the store's site. This will increase conversion and average...</td>\n",
       "      <td>56.0</td>\n",
       "    </tr>\n",
       "    <tr>\n",
       "      <th>0</th>\n",
       "      <td>Add two new channels for attracting traffic. This will bring 30% more users</td>\n",
       "      <td>40.0</td>\n",
       "    </tr>\n",
       "    <tr>\n",
       "      <th>6</th>\n",
       "      <td>Show banners with current offers and sales on the main page. This will boost conversion</td>\n",
       "      <td>40.0</td>\n",
       "    </tr>\n",
       "    <tr>\n",
       "      <th>8</th>\n",
       "      <td>Launch a promotion that gives users discounts on their birthdays</td>\n",
       "      <td>16.2</td>\n",
       "    </tr>\n",
       "    <tr>\n",
       "      <th>3</th>\n",
       "      <td>Change the category structure. This will increase conversion since users will find the products ...</td>\n",
       "      <td>9.0</td>\n",
       "    </tr>\n",
       "    <tr>\n",
       "      <th>1</th>\n",
       "      <td>Launch your own delivery service. This will shorten delivery time</td>\n",
       "      <td>4.0</td>\n",
       "    </tr>\n",
       "    <tr>\n",
       "      <th>5</th>\n",
       "      <td>Add a customer review page. This will increase the number of orders</td>\n",
       "      <td>4.0</td>\n",
       "    </tr>\n",
       "    <tr>\n",
       "      <th>4</th>\n",
       "      <td>Change the background color on the main page. This will increase user engagement</td>\n",
       "      <td>3.0</td>\n",
       "    </tr>\n",
       "  </tbody>\n",
       "</table>\n",
       "</div>"
      ],
      "text/plain": [
       "                                                                                            hypothesis  \\\n",
       "7             Add a subscription form to all the main pages. This will help you compile a mailing list   \n",
       "2  Add product recommendation blocks to the store's site. This will increase conversion and average...   \n",
       "0                          Add two new channels for attracting traffic. This will bring 30% more users   \n",
       "6              Show banners with current offers and sales on the main page. This will boost conversion   \n",
       "8                                     Launch a promotion that gives users discounts on their birthdays   \n",
       "3  Change the category structure. This will increase conversion since users will find the products ...   \n",
       "1                                    Launch your own delivery service. This will shorten delivery time   \n",
       "5                                  Add a customer review page. This will increase the number of orders   \n",
       "4                     Change the background color on the main page. This will increase user engagement   \n",
       "\n",
       "    RICE  \n",
       "7  112.0  \n",
       "2   56.0  \n",
       "0   40.0  \n",
       "6   40.0  \n",
       "8   16.2  \n",
       "3    9.0  \n",
       "1    4.0  \n",
       "5    4.0  \n",
       "4    3.0  "
      ]
     },
     "execution_count": 20,
     "metadata": {},
     "output_type": "execute_result"
    }
   ],
   "source": [
    "RICE = hypotheses_df[['hypothesis','RICE']].sort_values(by='RICE',ascending=False)\n",
    "RICE"
   ]
  },
  {
   "cell_type": "markdown",
   "id": "1816830f",
   "metadata": {},
   "source": [
    "### How prioritization changes when using the different methods?"
   ]
  },
  {
   "cell_type": "code",
   "execution_count": 21,
   "id": "00e4d9c9",
   "metadata": {},
   "outputs": [
    {
     "data": {
      "text/html": [
       "<div>\n",
       "<style scoped>\n",
       "    .dataframe tbody tr th:only-of-type {\n",
       "        vertical-align: middle;\n",
       "    }\n",
       "\n",
       "    .dataframe tbody tr th {\n",
       "        vertical-align: top;\n",
       "    }\n",
       "\n",
       "    .dataframe thead th {\n",
       "        text-align: right;\n",
       "    }\n",
       "</style>\n",
       "<table border=\"1\" class=\"dataframe\">\n",
       "  <thead>\n",
       "    <tr style=\"text-align: right;\">\n",
       "      <th></th>\n",
       "      <th>hypothesis</th>\n",
       "      <th>reach</th>\n",
       "      <th>impact</th>\n",
       "      <th>confidence</th>\n",
       "      <th>effort</th>\n",
       "      <th>ICE</th>\n",
       "      <th>RICE</th>\n",
       "    </tr>\n",
       "  </thead>\n",
       "  <tbody>\n",
       "    <tr>\n",
       "      <th>0</th>\n",
       "      <td>Add two new channels for attracting traffic. This will bring 30% more users</td>\n",
       "      <td>3</td>\n",
       "      <td>10</td>\n",
       "      <td>8</td>\n",
       "      <td>6</td>\n",
       "      <td>13.33</td>\n",
       "      <td>40.0</td>\n",
       "    </tr>\n",
       "    <tr>\n",
       "      <th>1</th>\n",
       "      <td>Launch your own delivery service. This will shorten delivery time</td>\n",
       "      <td>2</td>\n",
       "      <td>5</td>\n",
       "      <td>4</td>\n",
       "      <td>10</td>\n",
       "      <td>2.00</td>\n",
       "      <td>4.0</td>\n",
       "    </tr>\n",
       "    <tr>\n",
       "      <th>2</th>\n",
       "      <td>Add product recommendation blocks to the store's site. This will increase conversion and average...</td>\n",
       "      <td>8</td>\n",
       "      <td>3</td>\n",
       "      <td>7</td>\n",
       "      <td>3</td>\n",
       "      <td>7.00</td>\n",
       "      <td>56.0</td>\n",
       "    </tr>\n",
       "    <tr>\n",
       "      <th>3</th>\n",
       "      <td>Change the category structure. This will increase conversion since users will find the products ...</td>\n",
       "      <td>8</td>\n",
       "      <td>3</td>\n",
       "      <td>3</td>\n",
       "      <td>8</td>\n",
       "      <td>1.12</td>\n",
       "      <td>9.0</td>\n",
       "    </tr>\n",
       "    <tr>\n",
       "      <th>4</th>\n",
       "      <td>Change the background color on the main page. This will increase user engagement</td>\n",
       "      <td>3</td>\n",
       "      <td>1</td>\n",
       "      <td>1</td>\n",
       "      <td>1</td>\n",
       "      <td>1.00</td>\n",
       "      <td>3.0</td>\n",
       "    </tr>\n",
       "    <tr>\n",
       "      <th>5</th>\n",
       "      <td>Add a customer review page. This will increase the number of orders</td>\n",
       "      <td>3</td>\n",
       "      <td>2</td>\n",
       "      <td>2</td>\n",
       "      <td>3</td>\n",
       "      <td>1.33</td>\n",
       "      <td>4.0</td>\n",
       "    </tr>\n",
       "    <tr>\n",
       "      <th>6</th>\n",
       "      <td>Show banners with current offers and sales on the main page. This will boost conversion</td>\n",
       "      <td>5</td>\n",
       "      <td>3</td>\n",
       "      <td>8</td>\n",
       "      <td>3</td>\n",
       "      <td>8.00</td>\n",
       "      <td>40.0</td>\n",
       "    </tr>\n",
       "    <tr>\n",
       "      <th>7</th>\n",
       "      <td>Add a subscription form to all the main pages. This will help you compile a mailing list</td>\n",
       "      <td>10</td>\n",
       "      <td>7</td>\n",
       "      <td>8</td>\n",
       "      <td>5</td>\n",
       "      <td>11.20</td>\n",
       "      <td>112.0</td>\n",
       "    </tr>\n",
       "    <tr>\n",
       "      <th>8</th>\n",
       "      <td>Launch a promotion that gives users discounts on their birthdays</td>\n",
       "      <td>1</td>\n",
       "      <td>9</td>\n",
       "      <td>9</td>\n",
       "      <td>5</td>\n",
       "      <td>16.20</td>\n",
       "      <td>16.2</td>\n",
       "    </tr>\n",
       "  </tbody>\n",
       "</table>\n",
       "</div>"
      ],
      "text/plain": [
       "                                                                                            hypothesis  \\\n",
       "0                          Add two new channels for attracting traffic. This will bring 30% more users   \n",
       "1                                    Launch your own delivery service. This will shorten delivery time   \n",
       "2  Add product recommendation blocks to the store's site. This will increase conversion and average...   \n",
       "3  Change the category structure. This will increase conversion since users will find the products ...   \n",
       "4                     Change the background color on the main page. This will increase user engagement   \n",
       "5                                  Add a customer review page. This will increase the number of orders   \n",
       "6              Show banners with current offers and sales on the main page. This will boost conversion   \n",
       "7             Add a subscription form to all the main pages. This will help you compile a mailing list   \n",
       "8                                     Launch a promotion that gives users discounts on their birthdays   \n",
       "\n",
       "   reach  impact  confidence  effort    ICE   RICE  \n",
       "0      3      10           8       6  13.33   40.0  \n",
       "1      2       5           4      10   2.00    4.0  \n",
       "2      8       3           7       3   7.00   56.0  \n",
       "3      8       3           3       8   1.12    9.0  \n",
       "4      3       1           1       1   1.00    3.0  \n",
       "5      3       2           2       3   1.33    4.0  \n",
       "6      5       3           8       3   8.00   40.0  \n",
       "7     10       7           8       5  11.20  112.0  \n",
       "8      1       9           9       5  16.20   16.2  "
      ]
     },
     "execution_count": 21,
     "metadata": {},
     "output_type": "execute_result"
    }
   ],
   "source": [
    "hypotheses_df"
   ]
  },
  {
   "cell_type": "markdown",
   "id": "98753661",
   "metadata": {},
   "source": [
    "We can see that the top 5 are the top 5 in both methods, but the diffrence in the order of the hypotheses. Also the last one is the same for both. \n",
    "\n",
    "\n",
    "When we want to isolate the reach element, we use rice, and in our case with an online store, we want to know and separate the reach and impact we have.\n",
    "\n",
    "****"
   ]
  },
  {
   "cell_type": "markdown",
   "id": "e0b2a748",
   "metadata": {},
   "source": [
    "## A/B test analysis \n"
   ]
  },
  {
   "cell_type": "markdown",
   "id": "31bc443b",
   "metadata": {},
   "source": [
    "### cumulative revenue by group"
   ]
  },
  {
   "cell_type": "code",
   "execution_count": 22,
   "id": "935f144b",
   "metadata": {
    "scrolled": false
   },
   "outputs": [
    {
     "data": {
      "text/html": [
       "<div>\n",
       "<style scoped>\n",
       "    .dataframe tbody tr th:only-of-type {\n",
       "        vertical-align: middle;\n",
       "    }\n",
       "\n",
       "    .dataframe tbody tr th {\n",
       "        vertical-align: top;\n",
       "    }\n",
       "\n",
       "    .dataframe thead th {\n",
       "        text-align: right;\n",
       "    }\n",
       "</style>\n",
       "<table border=\"1\" class=\"dataframe\">\n",
       "  <thead>\n",
       "    <tr style=\"text-align: right;\">\n",
       "      <th></th>\n",
       "      <th>transactionId</th>\n",
       "      <th>visitorId</th>\n",
       "      <th>date</th>\n",
       "      <th>revenue</th>\n",
       "      <th>group</th>\n",
       "    </tr>\n",
       "  </thead>\n",
       "  <tbody>\n",
       "    <tr>\n",
       "      <th>0</th>\n",
       "      <td>3667963787</td>\n",
       "      <td>3312258926</td>\n",
       "      <td>2019-08-15</td>\n",
       "      <td>30.4</td>\n",
       "      <td>B</td>\n",
       "    </tr>\n",
       "    <tr>\n",
       "      <th>1</th>\n",
       "      <td>2804400009</td>\n",
       "      <td>3642806036</td>\n",
       "      <td>2019-08-15</td>\n",
       "      <td>15.2</td>\n",
       "      <td>B</td>\n",
       "    </tr>\n",
       "    <tr>\n",
       "      <th>3</th>\n",
       "      <td>3797467345</td>\n",
       "      <td>1196621759</td>\n",
       "      <td>2019-08-15</td>\n",
       "      <td>155.1</td>\n",
       "      <td>B</td>\n",
       "    </tr>\n",
       "    <tr>\n",
       "      <th>4</th>\n",
       "      <td>2282983706</td>\n",
       "      <td>2322279887</td>\n",
       "      <td>2019-08-15</td>\n",
       "      <td>40.5</td>\n",
       "      <td>B</td>\n",
       "    </tr>\n",
       "    <tr>\n",
       "      <th>5</th>\n",
       "      <td>182168103</td>\n",
       "      <td>935554773</td>\n",
       "      <td>2019-08-15</td>\n",
       "      <td>35.0</td>\n",
       "      <td>B</td>\n",
       "    </tr>\n",
       "    <tr>\n",
       "      <th>...</th>\n",
       "      <td>...</td>\n",
       "      <td>...</td>\n",
       "      <td>...</td>\n",
       "      <td>...</td>\n",
       "      <td>...</td>\n",
       "    </tr>\n",
       "    <tr>\n",
       "      <th>1191</th>\n",
       "      <td>3592955527</td>\n",
       "      <td>608641596</td>\n",
       "      <td>2019-08-14</td>\n",
       "      <td>255.7</td>\n",
       "      <td>B</td>\n",
       "    </tr>\n",
       "    <tr>\n",
       "      <th>1192</th>\n",
       "      <td>2662137336</td>\n",
       "      <td>3733762160</td>\n",
       "      <td>2019-08-14</td>\n",
       "      <td>100.8</td>\n",
       "      <td>B</td>\n",
       "    </tr>\n",
       "    <tr>\n",
       "      <th>1193</th>\n",
       "      <td>2203539145</td>\n",
       "      <td>370388673</td>\n",
       "      <td>2019-08-14</td>\n",
       "      <td>50.1</td>\n",
       "      <td>A</td>\n",
       "    </tr>\n",
       "    <tr>\n",
       "      <th>1194</th>\n",
       "      <td>1807773912</td>\n",
       "      <td>573423106</td>\n",
       "      <td>2019-08-14</td>\n",
       "      <td>165.3</td>\n",
       "      <td>A</td>\n",
       "    </tr>\n",
       "    <tr>\n",
       "      <th>1196</th>\n",
       "      <td>3936777065</td>\n",
       "      <td>2108080724</td>\n",
       "      <td>2019-08-15</td>\n",
       "      <td>3120.1</td>\n",
       "      <td>B</td>\n",
       "    </tr>\n",
       "  </tbody>\n",
       "</table>\n",
       "<p>1016 rows × 5 columns</p>\n",
       "</div>"
      ],
      "text/plain": [
       "      transactionId   visitorId       date  revenue group\n",
       "0        3667963787  3312258926 2019-08-15     30.4     B\n",
       "1        2804400009  3642806036 2019-08-15     15.2     B\n",
       "3        3797467345  1196621759 2019-08-15    155.1     B\n",
       "4        2282983706  2322279887 2019-08-15     40.5     B\n",
       "5         182168103   935554773 2019-08-15     35.0     B\n",
       "...             ...         ...        ...      ...   ...\n",
       "1191     3592955527   608641596 2019-08-14    255.7     B\n",
       "1192     2662137336  3733762160 2019-08-14    100.8     B\n",
       "1193     2203539145   370388673 2019-08-14     50.1     A\n",
       "1194     1807773912   573423106 2019-08-14    165.3     A\n",
       "1196     3936777065  2108080724 2019-08-15   3120.1     B\n",
       "\n",
       "[1016 rows x 5 columns]"
      ]
     },
     "execution_count": 22,
     "metadata": {},
     "output_type": "execute_result"
    }
   ],
   "source": [
    "orders_df"
   ]
  },
  {
   "cell_type": "code",
   "execution_count": 23,
   "id": "92477a30",
   "metadata": {},
   "outputs": [],
   "source": [
    "datesGroups = orders_df[['date', 'group']].drop_duplicates()"
   ]
  },
  {
   "cell_type": "code",
   "execution_count": 24,
   "id": "27de60a6",
   "metadata": {},
   "outputs": [],
   "source": [
    "group_column = orders_df['group']\n",
    "orders_df['group'] = pd.Categorical(group_column, categories=group_column.unique(), ordered=True)"
   ]
  },
  {
   "cell_type": "code",
   "execution_count": 25,
   "id": "0618722d",
   "metadata": {
    "scrolled": false
   },
   "outputs": [],
   "source": [
    "#revenue by group\n",
    "ordersAggregated = datesGroups.apply(\n",
    "    lambda x: orders_df[\n",
    "        np.logical_and(\n",
    "            orders_df['date'] <= x['date'], orders_df['group'] == x['group']\n",
    "        )\n",
    "    ].agg(\n",
    "        {\n",
    "            'date': 'max',\n",
    "            'group': 'max',\n",
    "            'transactionId': pd.Series.nunique,\n",
    "            'visitorId': pd.Series.nunique,\n",
    "            'revenue': 'sum',\n",
    "        }\n",
    "    ),\n",
    "    axis=1,\n",
    ").sort_values(by=['date', 'group'])"
   ]
  },
  {
   "cell_type": "code",
   "execution_count": 26,
   "id": "d82d18c5",
   "metadata": {},
   "outputs": [],
   "source": [
    "group_column_2 = visits_df['group']\n",
    "visits_df['group'] = pd.Categorical(group_column_2, categories=group_column.unique(), ordered=True)"
   ]
  },
  {
   "cell_type": "code",
   "execution_count": 27,
   "id": "275ea4ee",
   "metadata": {
    "scrolled": false
   },
   "outputs": [],
   "source": [
    "visitorsAggregated = datesGroups.apply(\n",
    "    lambda x: visits_df[\n",
    "        np.logical_and(\n",
    "            visits_df['date'] <= x['date'], visits_df['group'] == x['group']\n",
    "        )\n",
    "    ].agg({'date': 'max', 'group': 'max', 'visits': 'sum'}),\n",
    "    axis=1,\n",
    ").sort_values(by=['date', 'group'])"
   ]
  },
  {
   "cell_type": "code",
   "execution_count": 28,
   "id": "3976dbf4",
   "metadata": {},
   "outputs": [],
   "source": [
    "cumulativeData = ordersAggregated.merge(\n",
    "    visitorsAggregated, left_on=['date', 'group'], right_on=['date', 'group']\n",
    ")"
   ]
  },
  {
   "cell_type": "code",
   "execution_count": 29,
   "id": "f9892407",
   "metadata": {},
   "outputs": [],
   "source": [
    "cumulativeData.columns = [\n",
    "    'date',\n",
    "    'group',\n",
    "    'orders',\n",
    "    'buyers',\n",
    "    'revenue',\n",
    "    'visitors',\n",
    "]"
   ]
  },
  {
   "cell_type": "code",
   "execution_count": 30,
   "id": "2feb61f1",
   "metadata": {},
   "outputs": [
    {
     "data": {
      "text/html": [
       "<div>\n",
       "<style scoped>\n",
       "    .dataframe tbody tr th:only-of-type {\n",
       "        vertical-align: middle;\n",
       "    }\n",
       "\n",
       "    .dataframe tbody tr th {\n",
       "        vertical-align: top;\n",
       "    }\n",
       "\n",
       "    .dataframe thead th {\n",
       "        text-align: right;\n",
       "    }\n",
       "</style>\n",
       "<table border=\"1\" class=\"dataframe\">\n",
       "  <thead>\n",
       "    <tr style=\"text-align: right;\">\n",
       "      <th></th>\n",
       "      <th>date</th>\n",
       "      <th>group</th>\n",
       "      <th>orders</th>\n",
       "      <th>buyers</th>\n",
       "      <th>revenue</th>\n",
       "      <th>visitors</th>\n",
       "    </tr>\n",
       "  </thead>\n",
       "  <tbody>\n",
       "    <tr>\n",
       "      <th>0</th>\n",
       "      <td>2019-08-01</td>\n",
       "      <td>A</td>\n",
       "      <td>23</td>\n",
       "      <td>19</td>\n",
       "      <td>2266.6</td>\n",
       "      <td>719</td>\n",
       "    </tr>\n",
       "    <tr>\n",
       "      <th>1</th>\n",
       "      <td>2019-08-01</td>\n",
       "      <td>B</td>\n",
       "      <td>17</td>\n",
       "      <td>17</td>\n",
       "      <td>967.2</td>\n",
       "      <td>713</td>\n",
       "    </tr>\n",
       "    <tr>\n",
       "      <th>2</th>\n",
       "      <td>2019-08-02</td>\n",
       "      <td>A</td>\n",
       "      <td>42</td>\n",
       "      <td>36</td>\n",
       "      <td>3734.9</td>\n",
       "      <td>1338</td>\n",
       "    </tr>\n",
       "    <tr>\n",
       "      <th>3</th>\n",
       "      <td>2019-08-02</td>\n",
       "      <td>B</td>\n",
       "      <td>40</td>\n",
       "      <td>39</td>\n",
       "      <td>3535.3</td>\n",
       "      <td>1294</td>\n",
       "    </tr>\n",
       "    <tr>\n",
       "      <th>4</th>\n",
       "      <td>2019-08-03</td>\n",
       "      <td>A</td>\n",
       "      <td>66</td>\n",
       "      <td>60</td>\n",
       "      <td>5550.1</td>\n",
       "      <td>1845</td>\n",
       "    </tr>\n",
       "  </tbody>\n",
       "</table>\n",
       "</div>"
      ],
      "text/plain": [
       "        date group  orders  buyers  revenue  visitors\n",
       "0 2019-08-01     A      23      19   2266.6       719\n",
       "1 2019-08-01     B      17      17    967.2       713\n",
       "2 2019-08-02     A      42      36   3734.9      1338\n",
       "3 2019-08-02     B      40      39   3535.3      1294\n",
       "4 2019-08-03     A      66      60   5550.1      1845"
      ]
     },
     "execution_count": 30,
     "metadata": {},
     "output_type": "execute_result"
    }
   ],
   "source": [
    "cumulativeData.head()"
   ]
  },
  {
   "cell_type": "code",
   "execution_count": 31,
   "id": "46812897",
   "metadata": {},
   "outputs": [],
   "source": [
    "cumulativeRevenueA = cumulativeData[cumulativeData['group']=='A'][['date','revenue', 'orders']]\n",
    "cumulativeRevenueB = cumulativeData[cumulativeData['group']=='B'][['date','revenue', 'orders']]"
   ]
  },
  {
   "cell_type": "code",
   "execution_count": 32,
   "id": "5f3fc382",
   "metadata": {
    "scrolled": false
   },
   "outputs": [
    {
     "data": {
      "image/png": "[encoded data removed]",
      "text/plain": [
       "<Figure size 640x480 with 1 Axes>"
      ]
     },
     "metadata": {},
     "output_type": "display_data"
    }
   ],
   "source": [
    "plt.plot(cumulativeRevenueA['date'], cumulativeRevenueA['revenue'], label='A')\n",
    "plt.plot(cumulativeRevenueB['date'], cumulativeRevenueB['revenue'], label='B')\n",
    "plt.title('Cumulative revenue per group and date',fontsize=15)\n",
    "plt.xticks(rotation=50)\n",
    "plt.xlabel('Date')\n",
    "plt.ylabel('Cumulative revenue')\n",
    "plt.legend()\n",
    "plt.show();"
   ]
  },
  {
   "cell_type": "markdown",
   "id": "0cf8e3ca",
   "metadata": {},
   "source": [
    "Revenue is steadily increasing for both groups. \n",
    "\n",
    "We can see from 8/05/2019 that GroupB is increasing more rapidly and at a higher rate, with another spike around 8/13/2019, 8/18/2019 and 8/20/2019. \n",
    "\n",
    "We can can see clearly that GroupB cumulative revenue is higher all through the dates we checked. \n",
    "High number of orders or very expensive orders could explain group B spike.\n",
    "\n",
    "***"
   ]
  },
  {
   "cell_type": "markdown",
   "id": "9f934357",
   "metadata": {},
   "source": [
    "### cumulative order size  by group"
   ]
  },
  {
   "cell_type": "code",
   "execution_count": 33,
   "id": "13ad1335",
   "metadata": {},
   "outputs": [
    {
     "data": {
      "image/png": "[encoded data removed]",
      "text/plain": [
       "<Figure size 640x480 with 1 Axes>"
      ]
     },
     "metadata": {},
     "output_type": "display_data"
    }
   ],
   "source": [
    "plt.plot(cumulativeRevenueA['date'], cumulativeRevenueA['revenue']/cumulativeRevenueA['orders'], label='A')\n",
    "plt.plot(cumulativeRevenueB['date'], cumulativeRevenueB['revenue']/cumulativeRevenueB['orders'], label='B')\n",
    "plt.title('Cumulative order size per group and date',fontsize=15)\n",
    "plt.xticks(rotation=50)\n",
    "plt.xlabel('Date')\n",
    "plt.ylabel('Cumulative order size')\n",
    "plt.legend()\n",
    "plt.show();"
   ]
  },
  {
   "cell_type": "markdown",
   "id": "1c78da38",
   "metadata": {},
   "source": [
    "We can see that both groups see spikes in cumulative order size at certain points.\n",
    "\n",
    "However, as of around 8/18/2019, we can clearly see Group B's order size spikes above Group A, and the Cumulative order size per group is much higher.\n",
    "\n",
    "***"
   ]
  },
  {
   "cell_type": "markdown",
   "id": "2764eb97",
   "metadata": {},
   "source": [
    "### Relative difference in cumulative average order size for group B compared with group A"
   ]
  },
  {
   "cell_type": "code",
   "execution_count": 34,
   "id": "010c57ac",
   "metadata": {},
   "outputs": [
    {
     "data": {
      "text/html": [
       "<div>\n",
       "<style scoped>\n",
       "    .dataframe tbody tr th:only-of-type {\n",
       "        vertical-align: middle;\n",
       "    }\n",
       "\n",
       "    .dataframe tbody tr th {\n",
       "        vertical-align: top;\n",
       "    }\n",
       "\n",
       "    .dataframe thead th {\n",
       "        text-align: right;\n",
       "    }\n",
       "</style>\n",
       "<table border=\"1\" class=\"dataframe\">\n",
       "  <thead>\n",
       "    <tr style=\"text-align: right;\">\n",
       "      <th></th>\n",
       "      <th>date</th>\n",
       "      <th>revenueA</th>\n",
       "      <th>ordersA</th>\n",
       "      <th>revenueB</th>\n",
       "      <th>ordersB</th>\n",
       "    </tr>\n",
       "  </thead>\n",
       "  <tbody>\n",
       "    <tr>\n",
       "      <th>0</th>\n",
       "      <td>2019-08-01</td>\n",
       "      <td>2266.6</td>\n",
       "      <td>23</td>\n",
       "      <td>967.2</td>\n",
       "      <td>17</td>\n",
       "    </tr>\n",
       "    <tr>\n",
       "      <th>1</th>\n",
       "      <td>2019-08-02</td>\n",
       "      <td>3734.9</td>\n",
       "      <td>42</td>\n",
       "      <td>3535.3</td>\n",
       "      <td>40</td>\n",
       "    </tr>\n",
       "    <tr>\n",
       "      <th>2</th>\n",
       "      <td>2019-08-03</td>\n",
       "      <td>5550.1</td>\n",
       "      <td>66</td>\n",
       "      <td>4606.9</td>\n",
       "      <td>54</td>\n",
       "    </tr>\n",
       "    <tr>\n",
       "      <th>3</th>\n",
       "      <td>2019-08-04</td>\n",
       "      <td>6225.6</td>\n",
       "      <td>77</td>\n",
       "      <td>6138.5</td>\n",
       "      <td>68</td>\n",
       "    </tr>\n",
       "    <tr>\n",
       "      <th>4</th>\n",
       "      <td>2019-08-05</td>\n",
       "      <td>7623.6</td>\n",
       "      <td>99</td>\n",
       "      <td>7587.8</td>\n",
       "      <td>89</td>\n",
       "    </tr>\n",
       "  </tbody>\n",
       "</table>\n",
       "</div>"
      ],
      "text/plain": [
       "        date  revenueA  ordersA  revenueB  ordersB\n",
       "0 2019-08-01    2266.6       23     967.2       17\n",
       "1 2019-08-02    3734.9       42    3535.3       40\n",
       "2 2019-08-03    5550.1       66    4606.9       54\n",
       "3 2019-08-04    6225.6       77    6138.5       68\n",
       "4 2019-08-05    7623.6       99    7587.8       89"
      ]
     },
     "execution_count": 34,
     "metadata": {},
     "output_type": "execute_result"
    }
   ],
   "source": [
    "mergedCumulativeRevenue = cumulativeRevenueA.merge(cumulativeRevenueB, left_on='date', right_on='date', how='left', suffixes=['A', 'B'])\n",
    "mergedCumulativeRevenue.head()"
   ]
  },
  {
   "cell_type": "code",
   "execution_count": 35,
   "id": "96adb9d9",
   "metadata": {
    "scrolled": false
   },
   "outputs": [
    {
     "data": {
      "image/png": "[encoded data removed]",
      "text/plain": [
       "<Figure size 640x480 with 1 Axes>"
      ]
     },
     "metadata": {},
     "output_type": "display_data"
    }
   ],
   "source": [
    "plt.plot(mergedCumulativeRevenue['date'], (mergedCumulativeRevenue['revenueB']/mergedCumulativeRevenue['ordersB'])/(mergedCumulativeRevenue['revenueA']/mergedCumulativeRevenue['ordersA'])-1)\n",
    "plt.title('Relative difference in cumulative average orders',fontsize=13)\n",
    "plt.xticks(rotation=50)\n",
    "plt.xlabel('Date')\n",
    "plt.ylabel('Average orders')\n",
    "plt.axhline(y=0, color='black', linestyle='--')\n",
    "plt.show();"
   ]
  },
  {
   "cell_type": "markdown",
   "id": "e61870eb",
   "metadata": {},
   "source": [
    "At several points, the difference spikes. This implies that, as we saw above, there must be a few large orders in the data.\n",
    "\n",
    "***"
   ]
  },
  {
   "cell_type": "markdown",
   "id": "7821b75f",
   "metadata": {},
   "source": [
    "### Each group's conversion rate as the ratio of orders to the number of visits for each day"
   ]
  },
  {
   "cell_type": "code",
   "execution_count": 36,
   "id": "a473f4ba",
   "metadata": {},
   "outputs": [],
   "source": [
    "cumulativeData['conversion'] = cumulativeData['orders']/cumulativeData['visitors']"
   ]
  },
  {
   "cell_type": "code",
   "execution_count": 37,
   "id": "894f1a0f",
   "metadata": {},
   "outputs": [],
   "source": [
    "cumulativeDataA = cumulativeData[cumulativeData['group']=='A']\n",
    "cumulativeDataB = cumulativeData[cumulativeData['group']=='B']"
   ]
  },
  {
   "cell_type": "code",
   "execution_count": 38,
   "id": "ab305a3d",
   "metadata": {
    "scrolled": false
   },
   "outputs": [
    {
     "name": "stdout",
     "output_type": "stream",
     "text": [
      "GroupA:\n",
      "        date group  orders  buyers  revenue  visitors  conversion\n",
      "0 2019-08-01     A      23      19   2266.6       719    0.031989\n",
      "2 2019-08-02     A      42      36   3734.9      1338    0.031390\n",
      "4 2019-08-03     A      66      60   5550.1      1845    0.035772\n",
      "6 2019-08-04     A      77      71   6225.6      2562    0.030055\n",
      "8 2019-08-05     A      99      92   7623.6      3318    0.029837\n",
      "----------------------------------------------------------------------\n",
      "Convertion Rate avg groupA 0.027\n",
      "----------------------------------------------------------------------\n",
      "GroupB:\n",
      "        date group  orders  buyers  revenue  visitors  conversion\n",
      "1 2019-08-01     B      17      17    967.2       713    0.023843\n",
      "3 2019-08-02     B      40      39   3535.3      1294    0.030912\n",
      "5 2019-08-03     B      54      53   4606.9      1803    0.029950\n",
      "7 2019-08-04     B      68      66   6138.5      2573    0.026428\n",
      "9 2019-08-05     B      89      87   7587.8      3280    0.027134\n",
      "----------------------------------------------------------------------\n",
      "Convertion Rate avg groupB 0.029\n",
      "----------------------------------------------------------------------\n"
     ]
    },
    {
     "data": {
      "image/png": "[encoded data removed]",
      "text/plain": [
       "<Figure size 640x480 with 1 Axes>"
      ]
     },
     "metadata": {},
     "output_type": "display_data"
    }
   ],
   "source": [
    "plt.plot(cumulativeDataA['date'], cumulativeDataA['conversion'], label='A')\n",
    "plt.plot(cumulativeDataB['date'], cumulativeDataB['conversion'], label='B')\n",
    "print('GroupA:')\n",
    "print(cumulativeDataA.head())\n",
    "print('----------------------------------------------------------------------')\n",
    "print('Convertion Rate avg groupA', round(cumulativeDataA.conversion.mean(),3))\n",
    "print('----------------------------------------------------------------------')\n",
    "print('GroupB:')\n",
    "print(cumulativeDataB.head())\n",
    "print('----------------------------------------------------------------------')\n",
    "print('Convertion Rate avg groupB', round(cumulativeDataB.conversion.mean(),3))\n",
    "print('----------------------------------------------------------------------')\n",
    "plt.title('Conversion rate per group',fontsize=13)\n",
    "plt.xticks(rotation=50)\n",
    "plt.xlabel('Date')\n",
    "plt.ylabel('Conversion rate')\n",
    "plt.legend()\n",
    "plt.show();"
   ]
  },
  {
   "cell_type": "markdown",
   "id": "e3f8aa8e",
   "metadata": {},
   "source": [
    "As we can see at the beginning, GroupA was leading the conversation rate, but around June 8, 2019, GroupB took the lead. After that, both groups stabilized, with Group B ahead of Group A.\n",
    "\n",
    "***"
   ]
  },
  {
   "cell_type": "code",
   "execution_count": 39,
   "id": "55246d5b",
   "metadata": {
    "scrolled": true
   },
   "outputs": [
    {
     "data": {
      "text/html": [
       "<div>\n",
       "<style scoped>\n",
       "    .dataframe tbody tr th:only-of-type {\n",
       "        vertical-align: middle;\n",
       "    }\n",
       "\n",
       "    .dataframe tbody tr th {\n",
       "        vertical-align: top;\n",
       "    }\n",
       "\n",
       "    .dataframe thead th {\n",
       "        text-align: right;\n",
       "    }\n",
       "</style>\n",
       "<table border=\"1\" class=\"dataframe\">\n",
       "  <thead>\n",
       "    <tr style=\"text-align: right;\">\n",
       "      <th></th>\n",
       "      <th>date</th>\n",
       "      <th>conversionA</th>\n",
       "      <th>conversionB</th>\n",
       "    </tr>\n",
       "  </thead>\n",
       "  <tbody>\n",
       "    <tr>\n",
       "      <th>0</th>\n",
       "      <td>2019-08-01</td>\n",
       "      <td>0.031989</td>\n",
       "      <td>0.023843</td>\n",
       "    </tr>\n",
       "    <tr>\n",
       "      <th>1</th>\n",
       "      <td>2019-08-02</td>\n",
       "      <td>0.031390</td>\n",
       "      <td>0.030912</td>\n",
       "    </tr>\n",
       "    <tr>\n",
       "      <th>2</th>\n",
       "      <td>2019-08-03</td>\n",
       "      <td>0.035772</td>\n",
       "      <td>0.029950</td>\n",
       "    </tr>\n",
       "    <tr>\n",
       "      <th>3</th>\n",
       "      <td>2019-08-04</td>\n",
       "      <td>0.030055</td>\n",
       "      <td>0.026428</td>\n",
       "    </tr>\n",
       "    <tr>\n",
       "      <th>4</th>\n",
       "      <td>2019-08-05</td>\n",
       "      <td>0.029837</td>\n",
       "      <td>0.027134</td>\n",
       "    </tr>\n",
       "  </tbody>\n",
       "</table>\n",
       "</div>"
      ],
      "text/plain": [
       "        date  conversionA  conversionB\n",
       "0 2019-08-01     0.031989     0.023843\n",
       "1 2019-08-02     0.031390     0.030912\n",
       "2 2019-08-03     0.035772     0.029950\n",
       "3 2019-08-04     0.030055     0.026428\n",
       "4 2019-08-05     0.029837     0.027134"
      ]
     },
     "execution_count": 39,
     "metadata": {},
     "output_type": "execute_result"
    }
   ],
   "source": [
    "mergedCumulativeConversions = cumulativeDataA[['date','conversion']].merge(cumulativeDataB[['date','conversion']], left_on='date', right_on='date', \n",
    "                                                                           how='left', suffixes=['A', 'B'])\n",
    "mergedCumulativeConversions.head()"
   ]
  },
  {
   "cell_type": "code",
   "execution_count": 40,
   "id": "cd36906d",
   "metadata": {
    "scrolled": false
   },
   "outputs": [
    {
     "data": {
      "image/png": "[encoded data removed]",
      "text/plain": [
       "<Figure size 640x480 with 1 Axes>"
      ]
     },
     "metadata": {},
     "output_type": "display_data"
    }
   ],
   "source": [
    "plt.plot(\n",
    "    mergedCumulativeConversions['date'], \n",
    "    mergedCumulativeConversions['conversionB']/mergedCumulativeConversions['conversionA']-1\n",
    ") \n",
    "\n",
    "plt.title('Relative difference cumulative conversion rates',fontsize=13)\n",
    "plt.xticks(rotation=50)\n",
    "plt.xlabel('Date')\n",
    "plt.ylabel('Conversion rate')\n",
    "plt.axhline(y=0, color='black', linestyle='--')\n",
    "plt.axhline(y=-0.1, color='grey', linestyle='--')\n",
    "plt.show();\n",
    "\n",
    "\n"
   ]
  },
  {
   "cell_type": "markdown",
   "id": "4df48b10",
   "metadata": {},
   "source": [
    "If we look at the relative differences for the cumulative conversion rates, we can see that at the beginning of the test group B, it was gradually increasing and then abruptly decreasing, and then it began to increase once more and kept so steadily.\n",
    "\n",
    "We can conclude that the conversion ratio is not yet stable and that it is too soon to draw any conclusions. We need to look at the outliers in the data to see if that might be the reason.\n",
    "\n",
    "***"
   ]
  },
  {
   "cell_type": "markdown",
   "id": "b3e6c972",
   "metadata": {},
   "source": [
    "### Number of orders per user"
   ]
  },
  {
   "cell_type": "code",
   "execution_count": 41,
   "id": "4fc5cb6b",
   "metadata": {
    "scrolled": false
   },
   "outputs": [
    {
     "data": {
      "text/html": [
       "<div>\n",
       "<style scoped>\n",
       "    .dataframe tbody tr th:only-of-type {\n",
       "        vertical-align: middle;\n",
       "    }\n",
       "\n",
       "    .dataframe tbody tr th {\n",
       "        vertical-align: top;\n",
       "    }\n",
       "\n",
       "    .dataframe thead th {\n",
       "        text-align: right;\n",
       "    }\n",
       "</style>\n",
       "<table border=\"1\" class=\"dataframe\">\n",
       "  <thead>\n",
       "    <tr style=\"text-align: right;\">\n",
       "      <th></th>\n",
       "      <th>visitsid</th>\n",
       "      <th>orders</th>\n",
       "    </tr>\n",
       "  </thead>\n",
       "  <tbody>\n",
       "    <tr>\n",
       "      <th>908</th>\n",
       "      <td>3967698036</td>\n",
       "      <td>3</td>\n",
       "    </tr>\n",
       "    <tr>\n",
       "      <th>55</th>\n",
       "      <td>249864742</td>\n",
       "      <td>3</td>\n",
       "    </tr>\n",
       "    <tr>\n",
       "      <th>478</th>\n",
       "      <td>2108163459</td>\n",
       "      <td>3</td>\n",
       "    </tr>\n",
       "    <tr>\n",
       "      <th>687</th>\n",
       "      <td>2988190573</td>\n",
       "      <td>3</td>\n",
       "    </tr>\n",
       "    <tr>\n",
       "      <th>890</th>\n",
       "      <td>3908431265</td>\n",
       "      <td>3</td>\n",
       "    </tr>\n",
       "    <tr>\n",
       "      <th>...</th>\n",
       "      <td>...</td>\n",
       "      <td>...</td>\n",
       "    </tr>\n",
       "    <tr>\n",
       "      <th>331</th>\n",
       "      <td>1438226485</td>\n",
       "      <td>1</td>\n",
       "    </tr>\n",
       "    <tr>\n",
       "      <th>332</th>\n",
       "      <td>1452540367</td>\n",
       "      <td>1</td>\n",
       "    </tr>\n",
       "    <tr>\n",
       "      <th>333</th>\n",
       "      <td>1455323168</td>\n",
       "      <td>1</td>\n",
       "    </tr>\n",
       "    <tr>\n",
       "      <th>334</th>\n",
       "      <td>1455861274</td>\n",
       "      <td>1</td>\n",
       "    </tr>\n",
       "    <tr>\n",
       "      <th>972</th>\n",
       "      <td>4283872382</td>\n",
       "      <td>1</td>\n",
       "    </tr>\n",
       "  </tbody>\n",
       "</table>\n",
       "<p>973 rows × 2 columns</p>\n",
       "</div>"
      ],
      "text/plain": [
       "       visitsid  orders\n",
       "908  3967698036       3\n",
       "55    249864742       3\n",
       "478  2108163459       3\n",
       "687  2988190573       3\n",
       "890  3908431265       3\n",
       "..          ...     ...\n",
       "331  1438226485       1\n",
       "332  1452540367       1\n",
       "333  1455323168       1\n",
       "334  1455861274       1\n",
       "972  4283872382       1\n",
       "\n",
       "[973 rows x 2 columns]"
      ]
     },
     "execution_count": 41,
     "metadata": {},
     "output_type": "execute_result"
    }
   ],
   "source": [
    "ordersperuser = orders_df.groupby('visitorId',as_index=False).agg({'transactionId':'nunique'})\n",
    "ordersperuser.columns = ['visitsid','orders']\n",
    "ordersperuser.sort_values(by='orders',ascending=False)"
   ]
  },
  {
   "cell_type": "code",
   "execution_count": 42,
   "id": "39465f74",
   "metadata": {},
   "outputs": [
    {
     "data": {
      "image/png": "[encoded data removed]",
      "text/plain": [
       "<Figure size 640x480 with 1 Axes>"
      ]
     },
     "metadata": {},
     "output_type": "display_data"
    }
   ],
   "source": [
    "plt.hist(ordersperuser['orders'])\n",
    "plt.title('Orders per user',fontsize=13)\n",
    "plt.xlabel('Orders')\n",
    "plt.ylabel('Users')\n",
    "plt.show();"
   ]
  },
  {
   "cell_type": "code",
   "execution_count": 43,
   "id": "e7d79697",
   "metadata": {
    "scrolled": true
   },
   "outputs": [
    {
     "data": {
      "image/png": "[encoded data removed]",
      "text/plain": [
       "<Figure size 640x480 with 1 Axes>"
      ]
     },
     "metadata": {},
     "output_type": "display_data"
    }
   ],
   "source": [
    "x_values = pd.Series(range(0,len(ordersperuser))) \n",
    "\n",
    "plt.scatter(x_values,ordersperuser['orders'])\n",
    "plt.title('Orders per user',fontsize=13)\n",
    "plt.xlabel('Orders')\n",
    "plt.ylabel('Users')\n",
    "plt.show();"
   ]
  },
  {
   "cell_type": "markdown",
   "id": "4ffc75f8",
   "metadata": {},
   "source": [
    "### 95th and 99th percentiles for the number of orders per user"
   ]
  },
  {
   "cell_type": "code",
   "execution_count": 44,
   "id": "7aaa9abd",
   "metadata": {
    "scrolled": false
   },
   "outputs": [
    {
     "name": "stdout",
     "output_type": "stream",
     "text": [
      "95th percentile: 1.0\n",
      "99th percentile: 2.0\n"
     ]
    }
   ],
   "source": [
    "print('95th percentile:', np.percentile(ordersperuser['orders'],95))\n",
    "print('99th percentile:', np.percentile(ordersperuser['orders'],99))"
   ]
  },
  {
   "cell_type": "markdown",
   "id": "04902ed1",
   "metadata": {},
   "source": [
    "The most common order per user is one order.\n",
    "\n",
    "With outliers being above that, we can see in the graphs that there are outliers with 2 and 3 orders per user.\n",
    "\n",
    "1% of users is ordering more then one order.\n",
    "\n",
    "***"
   ]
  },
  {
   "cell_type": "markdown",
   "id": "1b8f0a45",
   "metadata": {},
   "source": [
    "### Scatter chart of order prices"
   ]
  },
  {
   "cell_type": "code",
   "execution_count": 45,
   "id": "71bb4b77",
   "metadata": {},
   "outputs": [
    {
     "data": {
      "text/html": [
       "<div>\n",
       "<style scoped>\n",
       "    .dataframe tbody tr th:only-of-type {\n",
       "        vertical-align: middle;\n",
       "    }\n",
       "\n",
       "    .dataframe tbody tr th {\n",
       "        vertical-align: top;\n",
       "    }\n",
       "\n",
       "    .dataframe thead th {\n",
       "        text-align: right;\n",
       "    }\n",
       "</style>\n",
       "<table border=\"1\" class=\"dataframe\">\n",
       "  <thead>\n",
       "    <tr style=\"text-align: right;\">\n",
       "      <th></th>\n",
       "      <th>transactionId</th>\n",
       "      <th>visitorId</th>\n",
       "      <th>date</th>\n",
       "      <th>revenue</th>\n",
       "      <th>group</th>\n",
       "    </tr>\n",
       "  </thead>\n",
       "  <tbody>\n",
       "    <tr>\n",
       "      <th>0</th>\n",
       "      <td>3667963787</td>\n",
       "      <td>3312258926</td>\n",
       "      <td>2019-08-15</td>\n",
       "      <td>30.4</td>\n",
       "      <td>B</td>\n",
       "    </tr>\n",
       "    <tr>\n",
       "      <th>1</th>\n",
       "      <td>2804400009</td>\n",
       "      <td>3642806036</td>\n",
       "      <td>2019-08-15</td>\n",
       "      <td>15.2</td>\n",
       "      <td>B</td>\n",
       "    </tr>\n",
       "    <tr>\n",
       "      <th>3</th>\n",
       "      <td>3797467345</td>\n",
       "      <td>1196621759</td>\n",
       "      <td>2019-08-15</td>\n",
       "      <td>155.1</td>\n",
       "      <td>B</td>\n",
       "    </tr>\n",
       "    <tr>\n",
       "      <th>4</th>\n",
       "      <td>2282983706</td>\n",
       "      <td>2322279887</td>\n",
       "      <td>2019-08-15</td>\n",
       "      <td>40.5</td>\n",
       "      <td>B</td>\n",
       "    </tr>\n",
       "    <tr>\n",
       "      <th>5</th>\n",
       "      <td>182168103</td>\n",
       "      <td>935554773</td>\n",
       "      <td>2019-08-15</td>\n",
       "      <td>35.0</td>\n",
       "      <td>B</td>\n",
       "    </tr>\n",
       "  </tbody>\n",
       "</table>\n",
       "</div>"
      ],
      "text/plain": [
       "   transactionId   visitorId       date  revenue group\n",
       "0     3667963787  3312258926 2019-08-15     30.4     B\n",
       "1     2804400009  3642806036 2019-08-15     15.2     B\n",
       "3     3797467345  1196621759 2019-08-15    155.1     B\n",
       "4     2282983706  2322279887 2019-08-15     40.5     B\n",
       "5      182168103   935554773 2019-08-15     35.0     B"
      ]
     },
     "execution_count": 45,
     "metadata": {},
     "output_type": "execute_result"
    }
   ],
   "source": [
    "orders_df.head()"
   ]
  },
  {
   "cell_type": "code",
   "execution_count": 46,
   "id": "4bf96efe",
   "metadata": {
    "scrolled": false
   },
   "outputs": [
    {
     "data": {
      "image/png": "[encoded data removed]",
      "text/plain": [
       "<Figure size 640x480 with 1 Axes>"
      ]
     },
     "metadata": {},
     "output_type": "display_data"
    }
   ],
   "source": [
    "plt.hist(orders_df['revenue'])\n",
    "plt.title('Order prices',fontsize=13)\n",
    "plt.xlabel('Orders')\n",
    "plt.ylabel('Prices')\n",
    "plt.show();"
   ]
  },
  {
   "cell_type": "code",
   "execution_count": 47,
   "id": "9732e126",
   "metadata": {
    "scrolled": false
   },
   "outputs": [
    {
     "data": {
      "image/png": "[encoded data removed]",
      "text/plain": [
       "<Figure size 640x480 with 1 Axes>"
      ]
     },
     "metadata": {},
     "output_type": "display_data"
    }
   ],
   "source": [
    "x_values_rev = pd.Series(range(0,len(orders_df['revenue']))) \n",
    "\n",
    "plt.scatter(x_values_rev,orders_df['revenue'])\n",
    "plt.title('Order prices',fontsize=13)\n",
    "plt.xlabel('Orders')\n",
    "plt.ylabel('Prices')\n",
    "plt.show();"
   ]
  },
  {
   "cell_type": "code",
   "execution_count": 48,
   "id": "e00b8817",
   "metadata": {
    "scrolled": true
   },
   "outputs": [
    {
     "data": {
      "text/plain": [
       "count     1016.000000\n",
       "mean       130.770866\n",
       "std        648.079810\n",
       "min          5.000000\n",
       "25%         20.775000\n",
       "50%         50.100000\n",
       "75%        126.950000\n",
       "max      19920.400000\n",
       "Name: revenue, dtype: float64"
      ]
     },
     "execution_count": 48,
     "metadata": {},
     "output_type": "execute_result"
    },
    {
     "data": {
      "text/plain": [
       "0    20.2\n",
       "Name: revenue, dtype: float64"
      ]
     },
     "execution_count": 48,
     "metadata": {},
     "output_type": "execute_result"
    }
   ],
   "source": [
    "orders_df.revenue.describe()\n",
    "orders_df.revenue.mode()"
   ]
  },
  {
   "cell_type": "markdown",
   "id": "2f6f62d7",
   "metadata": {},
   "source": [
    "The majority of the users are ordering less than 2500, as the most frequent order is 20.2 (we can't tell that from the graph).\n",
    "We have two outliers and abnormal points in the graph; around 2500 and around 20000 appear to be extremely high, which could be a mistake.\n",
    "\n",
    "***"
   ]
  },
  {
   "cell_type": "code",
   "execution_count": 49,
   "id": "005a4115",
   "metadata": {},
   "outputs": [
    {
     "data": {
      "text/html": [
       "<div>\n",
       "<style scoped>\n",
       "    .dataframe tbody tr th:only-of-type {\n",
       "        vertical-align: middle;\n",
       "    }\n",
       "\n",
       "    .dataframe tbody tr th {\n",
       "        vertical-align: top;\n",
       "    }\n",
       "\n",
       "    .dataframe thead th {\n",
       "        text-align: right;\n",
       "    }\n",
       "</style>\n",
       "<table border=\"1\" class=\"dataframe\">\n",
       "  <thead>\n",
       "    <tr style=\"text-align: right;\">\n",
       "      <th></th>\n",
       "      <th>transactionId</th>\n",
       "      <th>visitorId</th>\n",
       "      <th>date</th>\n",
       "      <th>revenue</th>\n",
       "      <th>group</th>\n",
       "    </tr>\n",
       "  </thead>\n",
       "  <tbody>\n",
       "    <tr>\n",
       "      <th>425</th>\n",
       "      <td>590470918</td>\n",
       "      <td>1920142716</td>\n",
       "      <td>2019-08-19</td>\n",
       "      <td>19920.4</td>\n",
       "      <td>B</td>\n",
       "    </tr>\n",
       "    <tr>\n",
       "      <th>1196</th>\n",
       "      <td>3936777065</td>\n",
       "      <td>2108080724</td>\n",
       "      <td>2019-08-15</td>\n",
       "      <td>3120.1</td>\n",
       "      <td>B</td>\n",
       "    </tr>\n",
       "    <tr>\n",
       "      <th>1136</th>\n",
       "      <td>666610489</td>\n",
       "      <td>1307669133</td>\n",
       "      <td>2019-08-13</td>\n",
       "      <td>1425.8</td>\n",
       "      <td>A</td>\n",
       "    </tr>\n",
       "    <tr>\n",
       "      <th>744</th>\n",
       "      <td>3668308183</td>\n",
       "      <td>888512513</td>\n",
       "      <td>2019-08-27</td>\n",
       "      <td>1335.6</td>\n",
       "      <td>B</td>\n",
       "    </tr>\n",
       "    <tr>\n",
       "      <th>743</th>\n",
       "      <td>3603576309</td>\n",
       "      <td>4133034833</td>\n",
       "      <td>2019-08-09</td>\n",
       "      <td>1050.0</td>\n",
       "      <td>A</td>\n",
       "    </tr>\n",
       "    <tr>\n",
       "      <th>...</th>\n",
       "      <td>...</td>\n",
       "      <td>...</td>\n",
       "      <td>...</td>\n",
       "      <td>...</td>\n",
       "      <td>...</td>\n",
       "    </tr>\n",
       "    <tr>\n",
       "      <th>414</th>\n",
       "      <td>2505918657</td>\n",
       "      <td>2524310328</td>\n",
       "      <td>2019-08-06</td>\n",
       "      <td>5.2</td>\n",
       "      <td>B</td>\n",
       "    </tr>\n",
       "    <tr>\n",
       "      <th>908</th>\n",
       "      <td>3352225027</td>\n",
       "      <td>1807547430</td>\n",
       "      <td>2019-08-05</td>\n",
       "      <td>5.2</td>\n",
       "      <td>B</td>\n",
       "    </tr>\n",
       "    <tr>\n",
       "      <th>404</th>\n",
       "      <td>2052514069</td>\n",
       "      <td>1995481842</td>\n",
       "      <td>2019-08-28</td>\n",
       "      <td>5.1</td>\n",
       "      <td>B</td>\n",
       "    </tr>\n",
       "    <tr>\n",
       "      <th>602</th>\n",
       "      <td>2356264591</td>\n",
       "      <td>1224903511</td>\n",
       "      <td>2019-08-09</td>\n",
       "      <td>5.1</td>\n",
       "      <td>A</td>\n",
       "    </tr>\n",
       "    <tr>\n",
       "      <th>1003</th>\n",
       "      <td>2765619353</td>\n",
       "      <td>54447517</td>\n",
       "      <td>2019-08-08</td>\n",
       "      <td>5.0</td>\n",
       "      <td>A</td>\n",
       "    </tr>\n",
       "  </tbody>\n",
       "</table>\n",
       "<p>1016 rows × 5 columns</p>\n",
       "</div>"
      ],
      "text/plain": [
       "      transactionId   visitorId       date  revenue group\n",
       "425       590470918  1920142716 2019-08-19  19920.4     B\n",
       "1196     3936777065  2108080724 2019-08-15   3120.1     B\n",
       "1136      666610489  1307669133 2019-08-13   1425.8     A\n",
       "744      3668308183   888512513 2019-08-27   1335.6     B\n",
       "743      3603576309  4133034833 2019-08-09   1050.0     A\n",
       "...             ...         ...        ...      ...   ...\n",
       "414      2505918657  2524310328 2019-08-06      5.2     B\n",
       "908      3352225027  1807547430 2019-08-05      5.2     B\n",
       "404      2052514069  1995481842 2019-08-28      5.1     B\n",
       "602      2356264591  1224903511 2019-08-09      5.1     A\n",
       "1003     2765619353    54447517 2019-08-08      5.0     A\n",
       "\n",
       "[1016 rows x 5 columns]"
      ]
     },
     "execution_count": 49,
     "metadata": {},
     "output_type": "execute_result"
    }
   ],
   "source": [
    "orders_df.sort_values(by='revenue',ascending=False)"
   ]
  },
  {
   "cell_type": "code",
   "execution_count": 50,
   "id": "efffae85",
   "metadata": {
    "scrolled": false
   },
   "outputs": [
    {
     "data": {
      "text/html": [
       "<div>\n",
       "<style scoped>\n",
       "    .dataframe tbody tr th:only-of-type {\n",
       "        vertical-align: middle;\n",
       "    }\n",
       "\n",
       "    .dataframe tbody tr th {\n",
       "        vertical-align: top;\n",
       "    }\n",
       "\n",
       "    .dataframe thead th {\n",
       "        text-align: right;\n",
       "    }\n",
       "</style>\n",
       "<table border=\"1\" class=\"dataframe\">\n",
       "  <thead>\n",
       "    <tr style=\"text-align: right;\">\n",
       "      <th></th>\n",
       "      <th>transactionId</th>\n",
       "      <th>visitorId</th>\n",
       "      <th>date</th>\n",
       "      <th>revenue</th>\n",
       "      <th>group</th>\n",
       "    </tr>\n",
       "  </thead>\n",
       "  <tbody>\n",
       "    <tr>\n",
       "      <th>1136</th>\n",
       "      <td>666610489</td>\n",
       "      <td>1307669133</td>\n",
       "      <td>2019-08-13</td>\n",
       "      <td>1425.8</td>\n",
       "      <td>A</td>\n",
       "    </tr>\n",
       "    <tr>\n",
       "      <th>744</th>\n",
       "      <td>3668308183</td>\n",
       "      <td>888512513</td>\n",
       "      <td>2019-08-27</td>\n",
       "      <td>1335.6</td>\n",
       "      <td>B</td>\n",
       "    </tr>\n",
       "    <tr>\n",
       "      <th>743</th>\n",
       "      <td>3603576309</td>\n",
       "      <td>4133034833</td>\n",
       "      <td>2019-08-09</td>\n",
       "      <td>1050.0</td>\n",
       "      <td>A</td>\n",
       "    </tr>\n",
       "    <tr>\n",
       "      <th>1103</th>\n",
       "      <td>1348774318</td>\n",
       "      <td>1164614297</td>\n",
       "      <td>2019-08-12</td>\n",
       "      <td>1025.8</td>\n",
       "      <td>A</td>\n",
       "    </tr>\n",
       "    <tr>\n",
       "      <th>1099</th>\n",
       "      <td>316924019</td>\n",
       "      <td>148427295</td>\n",
       "      <td>2019-08-12</td>\n",
       "      <td>1015.9</td>\n",
       "      <td>A</td>\n",
       "    </tr>\n",
       "    <tr>\n",
       "      <th>...</th>\n",
       "      <td>...</td>\n",
       "      <td>...</td>\n",
       "      <td>...</td>\n",
       "      <td>...</td>\n",
       "      <td>...</td>\n",
       "    </tr>\n",
       "    <tr>\n",
       "      <th>414</th>\n",
       "      <td>2505918657</td>\n",
       "      <td>2524310328</td>\n",
       "      <td>2019-08-06</td>\n",
       "      <td>5.2</td>\n",
       "      <td>B</td>\n",
       "    </tr>\n",
       "    <tr>\n",
       "      <th>908</th>\n",
       "      <td>3352225027</td>\n",
       "      <td>1807547430</td>\n",
       "      <td>2019-08-05</td>\n",
       "      <td>5.2</td>\n",
       "      <td>B</td>\n",
       "    </tr>\n",
       "    <tr>\n",
       "      <th>404</th>\n",
       "      <td>2052514069</td>\n",
       "      <td>1995481842</td>\n",
       "      <td>2019-08-28</td>\n",
       "      <td>5.1</td>\n",
       "      <td>B</td>\n",
       "    </tr>\n",
       "    <tr>\n",
       "      <th>602</th>\n",
       "      <td>2356264591</td>\n",
       "      <td>1224903511</td>\n",
       "      <td>2019-08-09</td>\n",
       "      <td>5.1</td>\n",
       "      <td>A</td>\n",
       "    </tr>\n",
       "    <tr>\n",
       "      <th>1003</th>\n",
       "      <td>2765619353</td>\n",
       "      <td>54447517</td>\n",
       "      <td>2019-08-08</td>\n",
       "      <td>5.0</td>\n",
       "      <td>A</td>\n",
       "    </tr>\n",
       "  </tbody>\n",
       "</table>\n",
       "<p>1014 rows × 5 columns</p>\n",
       "</div>"
      ],
      "text/plain": [
       "      transactionId   visitorId       date  revenue group\n",
       "1136      666610489  1307669133 2019-08-13   1425.8     A\n",
       "744      3668308183   888512513 2019-08-27   1335.6     B\n",
       "743      3603576309  4133034833 2019-08-09   1050.0     A\n",
       "1103     1348774318  1164614297 2019-08-12   1025.8     A\n",
       "1099      316924019   148427295 2019-08-12   1015.9     A\n",
       "...             ...         ...        ...      ...   ...\n",
       "414      2505918657  2524310328 2019-08-06      5.2     B\n",
       "908      3352225027  1807547430 2019-08-05      5.2     B\n",
       "404      2052514069  1995481842 2019-08-28      5.1     B\n",
       "602      2356264591  1224903511 2019-08-09      5.1     A\n",
       "1003     2765619353    54447517 2019-08-08      5.0     A\n",
       "\n",
       "[1014 rows x 5 columns]"
      ]
     },
     "execution_count": 50,
     "metadata": {},
     "output_type": "execute_result"
    }
   ],
   "source": [
    "orders_df_sorted = orders_df[orders_df['revenue'] <= 1425.8]\n",
    "orders_df_sorted.sort_values(by='revenue',ascending=False)"
   ]
  },
  {
   "cell_type": "code",
   "execution_count": 51,
   "id": "e34434f7",
   "metadata": {
    "scrolled": true
   },
   "outputs": [
    {
     "data": {
      "image/png": "[encoded data removed]",
      "text/plain": [
       "<Figure size 640x480 with 1 Axes>"
      ]
     },
     "metadata": {},
     "output_type": "display_data"
    }
   ],
   "source": [
    "plt.hist(orders_df_sorted['revenue'])\n",
    "plt.title('Order prices',fontsize=13)\n",
    "plt.xlabel('Orders')\n",
    "plt.ylabel('Prices')\n",
    "plt.show();"
   ]
  },
  {
   "cell_type": "code",
   "execution_count": 52,
   "id": "cddefac3",
   "metadata": {
    "scrolled": true
   },
   "outputs": [
    {
     "data": {
      "image/png": "[encoded data removed]",
      "text/plain": [
       "<Figure size 640x480 with 1 Axes>"
      ]
     },
     "metadata": {},
     "output_type": "display_data"
    }
   ],
   "source": [
    "x_values_rev = pd.Series(range(0,len(orders_df_sorted['revenue']))) \n",
    "\n",
    "plt.scatter(x_values_rev,orders_df_sorted['revenue'])\n",
    "plt.title('Order prices',fontsize=13)\n",
    "plt.xlabel('Orders')\n",
    "plt.ylabel('Prices')\n",
    "plt.show();"
   ]
  },
  {
   "cell_type": "markdown",
   "id": "eba5ea4f",
   "metadata": {},
   "source": [
    "### 95th and 99th percentiles of order prices"
   ]
  },
  {
   "cell_type": "code",
   "execution_count": 53,
   "id": "c58bca19",
   "metadata": {
    "scrolled": true
   },
   "outputs": [
    {
     "name": "stdout",
     "output_type": "stream",
     "text": [
      "95th percentile: 414.28\n",
      "99th percentile: 830.3\n"
     ]
    }
   ],
   "source": [
    "print('95th percentile:', round(np.percentile(orders_df['revenue'],95),2))\n",
    "print('99th percentile:', round(np.percentile(orders_df['revenue'],99),2))"
   ]
  },
  {
   "cell_type": "markdown",
   "id": "de290a86",
   "metadata": {},
   "source": [
    "* 95% of our users hase produced us revenue of 414.28 and lower, that means that 5% of users produced us revenue above that. \n",
    "\n",
    "* 99% of our users hase produced us revenue of 830.3 and lower, that means that 1% of users produced us revenue above that.\n",
    "\n",
    "***"
   ]
  },
  {
   "cell_type": "markdown",
   "id": "3f74d491",
   "metadata": {},
   "source": [
    "### Statistical significance of the difference in conversion between the groups using the raw data"
   ]
  },
  {
   "cell_type": "markdown",
   "id": "27ce135f",
   "metadata": {},
   "source": [
    "* H0 = No diffrences in conversion between the groups\n",
    "\n",
    "* H1 = We don't have enough evidence to state that there are no diffrences in conversion between the groups"
   ]
  },
  {
   "cell_type": "code",
   "execution_count": 54,
   "id": "2c371978",
   "metadata": {
    "scrolled": true
   },
   "outputs": [
    {
     "data": {
      "text/html": [
       "<div>\n",
       "<style scoped>\n",
       "    .dataframe tbody tr th:only-of-type {\n",
       "        vertical-align: middle;\n",
       "    }\n",
       "\n",
       "    .dataframe tbody tr th {\n",
       "        vertical-align: top;\n",
       "    }\n",
       "\n",
       "    .dataframe thead th {\n",
       "        text-align: right;\n",
       "    }\n",
       "</style>\n",
       "<table border=\"1\" class=\"dataframe\">\n",
       "  <thead>\n",
       "    <tr style=\"text-align: right;\">\n",
       "      <th></th>\n",
       "      <th>transactionId</th>\n",
       "      <th>visitorId</th>\n",
       "      <th>date</th>\n",
       "      <th>revenue</th>\n",
       "      <th>group</th>\n",
       "    </tr>\n",
       "  </thead>\n",
       "  <tbody>\n",
       "    <tr>\n",
       "      <th>0</th>\n",
       "      <td>3667963787</td>\n",
       "      <td>3312258926</td>\n",
       "      <td>2019-08-15</td>\n",
       "      <td>30.4</td>\n",
       "      <td>B</td>\n",
       "    </tr>\n",
       "    <tr>\n",
       "      <th>1</th>\n",
       "      <td>2804400009</td>\n",
       "      <td>3642806036</td>\n",
       "      <td>2019-08-15</td>\n",
       "      <td>15.2</td>\n",
       "      <td>B</td>\n",
       "    </tr>\n",
       "    <tr>\n",
       "      <th>3</th>\n",
       "      <td>3797467345</td>\n",
       "      <td>1196621759</td>\n",
       "      <td>2019-08-15</td>\n",
       "      <td>155.1</td>\n",
       "      <td>B</td>\n",
       "    </tr>\n",
       "    <tr>\n",
       "      <th>4</th>\n",
       "      <td>2282983706</td>\n",
       "      <td>2322279887</td>\n",
       "      <td>2019-08-15</td>\n",
       "      <td>40.5</td>\n",
       "      <td>B</td>\n",
       "    </tr>\n",
       "    <tr>\n",
       "      <th>5</th>\n",
       "      <td>182168103</td>\n",
       "      <td>935554773</td>\n",
       "      <td>2019-08-15</td>\n",
       "      <td>35.0</td>\n",
       "      <td>B</td>\n",
       "    </tr>\n",
       "  </tbody>\n",
       "</table>\n",
       "</div>"
      ],
      "text/plain": [
       "   transactionId   visitorId       date  revenue group\n",
       "0     3667963787  3312258926 2019-08-15     30.4     B\n",
       "1     2804400009  3642806036 2019-08-15     15.2     B\n",
       "3     3797467345  1196621759 2019-08-15    155.1     B\n",
       "4     2282983706  2322279887 2019-08-15     40.5     B\n",
       "5      182168103   935554773 2019-08-15     35.0     B"
      ]
     },
     "execution_count": 54,
     "metadata": {},
     "output_type": "execute_result"
    }
   ],
   "source": [
    "orders_df.head()"
   ]
  },
  {
   "cell_type": "code",
   "execution_count": 55,
   "id": "4242a690",
   "metadata": {},
   "outputs": [
    {
     "data": {
      "text/html": [
       "<div>\n",
       "<style scoped>\n",
       "    .dataframe tbody tr th:only-of-type {\n",
       "        vertical-align: middle;\n",
       "    }\n",
       "\n",
       "    .dataframe tbody tr th {\n",
       "        vertical-align: top;\n",
       "    }\n",
       "\n",
       "    .dataframe thead th {\n",
       "        text-align: right;\n",
       "    }\n",
       "</style>\n",
       "<table border=\"1\" class=\"dataframe\">\n",
       "  <thead>\n",
       "    <tr style=\"text-align: right;\">\n",
       "      <th></th>\n",
       "      <th>date</th>\n",
       "      <th>group</th>\n",
       "      <th>visits</th>\n",
       "    </tr>\n",
       "  </thead>\n",
       "  <tbody>\n",
       "    <tr>\n",
       "      <th>0</th>\n",
       "      <td>2019-08-01</td>\n",
       "      <td>A</td>\n",
       "      <td>719</td>\n",
       "    </tr>\n",
       "    <tr>\n",
       "      <th>1</th>\n",
       "      <td>2019-08-02</td>\n",
       "      <td>A</td>\n",
       "      <td>619</td>\n",
       "    </tr>\n",
       "    <tr>\n",
       "      <th>2</th>\n",
       "      <td>2019-08-03</td>\n",
       "      <td>A</td>\n",
       "      <td>507</td>\n",
       "    </tr>\n",
       "    <tr>\n",
       "      <th>3</th>\n",
       "      <td>2019-08-04</td>\n",
       "      <td>A</td>\n",
       "      <td>717</td>\n",
       "    </tr>\n",
       "    <tr>\n",
       "      <th>4</th>\n",
       "      <td>2019-08-05</td>\n",
       "      <td>A</td>\n",
       "      <td>756</td>\n",
       "    </tr>\n",
       "  </tbody>\n",
       "</table>\n",
       "</div>"
      ],
      "text/plain": [
       "        date group  visits\n",
       "0 2019-08-01     A     719\n",
       "1 2019-08-02     A     619\n",
       "2 2019-08-03     A     507\n",
       "3 2019-08-04     A     717\n",
       "4 2019-08-05     A     756"
      ]
     },
     "execution_count": 55,
     "metadata": {},
     "output_type": "execute_result"
    }
   ],
   "source": [
    "visits_df.head()"
   ]
  },
  {
   "cell_type": "code",
   "execution_count": 56,
   "id": "a2c93be1",
   "metadata": {},
   "outputs": [],
   "source": [
    "alpha = 0.5 \n",
    "\n",
    "odersByusersA = orders_df[orders_df['group']=='A'].groupby('visitorId',as_index=False).agg({'transactionId':pd.Series.nunique})\n",
    "odersByusersB = orders_df[orders_df['group']=='B'].groupby('visitorId',as_index=False).agg({'transactionId':pd.Series.nunique})\n",
    "odersByusersA.columns = ['visitorId','transactionId']\n",
    "odersByusersB.columns = ['visitorId','transactionId']\n",
    "\n",
    "SampleA = pd.concat(\n",
    "    [\n",
    "        odersByusersA['transactionId'],pd.Series(\n",
    "            0,index = np.arange(\n",
    "                visits_df[visits_df['group'] == 'A']['visits'].sum() - len(odersByusersA['transactionId'])\n",
    "            ),name ='transactionId'\n",
    "        )\n",
    "    ],axis=0\n",
    ")\n",
    "\n",
    "\n",
    "SampleB = pd.concat(\n",
    "    [\n",
    "        odersByusersB['transactionId'],pd.Series(\n",
    "            0,index = np.arange(\n",
    "                visits_df[visits_df['group'] == 'B']['visits'].sum() - len(odersByusersB['transactionId'])\n",
    "            ),name ='transactionId'\n",
    "        )\n",
    "    ],axis=0\n",
    ")"
   ]
  },
  {
   "cell_type": "code",
   "execution_count": 57,
   "id": "3dba6919",
   "metadata": {
    "scrolled": true
   },
   "outputs": [
    {
     "name": "stdout",
     "output_type": "stream",
     "text": [
      "Relative gain: 0.160\n",
      "-----------------------------------------\n",
      "p-Value 0.011\n",
      "-----------------------------------------\n",
      "We reject the null hypothesis\n"
     ]
    }
   ],
   "source": [
    "print('Relative gain:',\"{0:.3f}\".format(SampleB.mean()/SampleA.mean()-1))\n",
    "print('-----------------------------------------')\n",
    "results = st.mannwhitneyu(SampleA, SampleB)[1]\n",
    "print('p-Value',\"{0:.3f}\".format(results))\n",
    "print('-----------------------------------------')\n",
    "if(results < alpha):\n",
    "    print('We reject the null hypothesis')\n",
    "else:\n",
    "    print('We cant reject the null hypothesis')"
   ]
  },
  {
   "cell_type": "markdown",
   "id": "9b59290d",
   "metadata": {},
   "source": [
    "* Based on the raw data We don't have enough evidence to state that there are no diffrences in conversion between the groups\n",
    "(p-value is smaller then alpha).\n",
    "\n",
    "* The relative gain we have from GroupB is 16% \n",
    "\n",
    "***"
   ]
  },
  {
   "cell_type": "markdown",
   "id": "263e01b4",
   "metadata": {},
   "source": [
    "### Statistical significance of the difference in average order size between the groups using the raw data"
   ]
  },
  {
   "cell_type": "markdown",
   "id": "e76f55c3",
   "metadata": {},
   "source": [
    "* H0 = There is diffrences in average order size between the groups\n",
    "\n",
    "* H1 = We don't have enough evidence to state that there is diffrences in average order size between the groups"
   ]
  },
  {
   "cell_type": "code",
   "execution_count": 58,
   "id": "4c4cb124",
   "metadata": {},
   "outputs": [
    {
     "name": "stdout",
     "output_type": "stream",
     "text": [
      "Significance of the difference: 0.278\n",
      "-----------------------------------------\n",
      "p-Value 0.862\n",
      "-----------------------------------------\n",
      "We cant reject the null hypothesis\n"
     ]
    }
   ],
   "source": [
    "print('Significance of the difference:',\"{0:.3f}\".format(\n",
    "    orders_df[orders_df['group'] == 'B']['revenue'].mean()/orders_df[orders_df['group']=='A']['revenue'].mean()-1)\n",
    "     )\n",
    "print('-----------------------------------------')\n",
    "results_orders = st.mannwhitneyu(\n",
    "    orders_df[orders_df['group'] == 'A']['revenue'], orders_df[orders_df['group'] == 'B']['revenue']\n",
    ")[1]\n",
    "\n",
    "print('p-Value',\"{0:.3f}\".format(results_orders))\n",
    "print('-----------------------------------------')\n",
    "if(results_orders < alpha):\n",
    "    print('We reject the null hypothesis')\n",
    "else:\n",
    "    print('We cant reject the null hypothesis')"
   ]
  },
  {
   "cell_type": "markdown",
   "id": "876905b5",
   "metadata": {},
   "source": [
    "* We can see that the p-value is much higher than alpha, so we can't reject H0 and say that there is no difference in average order size between the groups.\n",
    "\n",
    "* We can also see that the significance of the difference is around 30%, which means the average order size for group B is 30% higher than in group A.\n",
    "\n",
    "***"
   ]
  },
  {
   "cell_type": "markdown",
   "id": "a2b75705",
   "metadata": {},
   "source": [
    "### Significance of the difference in conversion between the groups using the filtered data"
   ]
  },
  {
   "cell_type": "markdown",
   "id": "105877fe",
   "metadata": {},
   "source": [
    "* H0 = No diffrences in conversion between the groups\n",
    "\n",
    "* H1 = We don't have enough evidence to state that there are no diffrences in conversion between the groups"
   ]
  },
  {
   "cell_type": "code",
   "execution_count": 59,
   "id": "8de4812f",
   "metadata": {},
   "outputs": [
    {
     "data": {
      "text/html": [
       "<div>\n",
       "<style scoped>\n",
       "    .dataframe tbody tr th:only-of-type {\n",
       "        vertical-align: middle;\n",
       "    }\n",
       "\n",
       "    .dataframe tbody tr th {\n",
       "        vertical-align: top;\n",
       "    }\n",
       "\n",
       "    .dataframe thead th {\n",
       "        text-align: right;\n",
       "    }\n",
       "</style>\n",
       "<table border=\"1\" class=\"dataframe\">\n",
       "  <thead>\n",
       "    <tr style=\"text-align: right;\">\n",
       "      <th></th>\n",
       "      <th>visitorId</th>\n",
       "      <th>transactionId</th>\n",
       "    </tr>\n",
       "  </thead>\n",
       "  <tbody>\n",
       "    <tr>\n",
       "      <th>0</th>\n",
       "      <td>11685486</td>\n",
       "      <td>1</td>\n",
       "    </tr>\n",
       "    <tr>\n",
       "      <th>1</th>\n",
       "      <td>54447517</td>\n",
       "      <td>1</td>\n",
       "    </tr>\n",
       "    <tr>\n",
       "      <th>2</th>\n",
       "      <td>66685450</td>\n",
       "      <td>1</td>\n",
       "    </tr>\n",
       "    <tr>\n",
       "      <th>3</th>\n",
       "      <td>78758296</td>\n",
       "      <td>1</td>\n",
       "    </tr>\n",
       "    <tr>\n",
       "      <th>4</th>\n",
       "      <td>85103373</td>\n",
       "      <td>1</td>\n",
       "    </tr>\n",
       "  </tbody>\n",
       "</table>\n",
       "</div>"
      ],
      "text/plain": [
       "   visitorId  transactionId\n",
       "0   11685486              1\n",
       "1   54447517              1\n",
       "2   66685450              1\n",
       "3   78758296              1\n",
       "4   85103373              1"
      ]
     },
     "execution_count": 59,
     "metadata": {},
     "output_type": "execute_result"
    }
   ],
   "source": [
    "odersByusersA.head()"
   ]
  },
  {
   "cell_type": "code",
   "execution_count": 60,
   "id": "fea58a3f",
   "metadata": {
    "scrolled": true
   },
   "outputs": [
    {
     "data": {
      "text/plain": [
       "1099    148427295\n",
       "928     204675465\n",
       "33      249864742\n",
       "684     358944393\n",
       "36      366673373\n",
       "Name: visitorId, dtype: int64"
      ]
     },
     "execution_count": 60,
     "metadata": {},
     "output_type": "execute_result"
    },
    {
     "data": {
      "text/plain": [
       "(83,)"
      ]
     },
     "execution_count": 60,
     "metadata": {},
     "output_type": "execute_result"
    }
   ],
   "source": [
    "# anomalies recorder\n",
    "users_orders_many = pd.concat([\n",
    "    odersByusersA[odersByusersA['transactionId'] > 1]['visitorId'],\n",
    "    odersByusersB[odersByusersB['transactionId'] > 1]['visitorId']],axis=0)\n",
    "users_orders_exp = orders_df[orders_df['revenue'] > 435.54]['visitorId']\n",
    "\n",
    "abnormal_users = pd.concat([users_orders_many,users_orders_exp],axis=0).drop_duplicates().sort_values()\n",
    "abnormal_users.head()\n",
    "abnormal_users.shape"
   ]
  },
  {
   "cell_type": "code",
   "execution_count": 61,
   "id": "4ffd7e69",
   "metadata": {},
   "outputs": [],
   "source": [
    "SampleA_filtered = pd.concat([odersByusersA[np.logical_not(odersByusersA['visitorId'].isin(\n",
    "    abnormal_users))]['transactionId'],pd.Series(0,index=np.arange(\n",
    "    visits_df[visits_df['group'] == 'A']['visits'].sum() - len(odersByusersA['transactionId'])),name ='transactionId'\n",
    ")],axis = 0)\n",
    "\n",
    "SampleB_filtered = pd.concat([odersByusersB[np.logical_not(odersByusersB['visitorId'].isin(\n",
    "    abnormal_users))]['transactionId'],pd.Series(0,index=np.arange(\n",
    "    visits_df[visits_df['group'] == 'B']['visits'].sum() - len(odersByusersB['transactionId'])),name ='transactionId'\n",
    ")],axis = 0)"
   ]
  },
  {
   "cell_type": "code",
   "execution_count": 62,
   "id": "d298a66d",
   "metadata": {
    "scrolled": true
   },
   "outputs": [
    {
     "name": "stdout",
     "output_type": "stream",
     "text": [
      "Relative gain: 0.181\n",
      "-----------------------------------------\n",
      "p-Value 0.012\n",
      "-----------------------------------------\n",
      "We reject the null hypothesis\n"
     ]
    }
   ],
   "source": [
    "print('Relative gain:',\"{0:.3f}\".format(SampleB_filtered.mean()/SampleA_filtered.mean()-1))\n",
    "print('-----------------------------------------')\n",
    "results = st.mannwhitneyu(SampleA_filtered, SampleB_filtered)[1]\n",
    "print('p-Value',\"{0:.3f}\".format(results))\n",
    "print('-----------------------------------------')\n",
    "if(results < alpha):\n",
    "    print('We reject the null hypothesis')\n",
    "else:\n",
    "    print('We cant reject the null hypothesis')"
   ]
  },
  {
   "cell_type": "markdown",
   "id": "960945aa",
   "metadata": {},
   "source": [
    "* We found 83 anomolies and filtered the data.\n",
    "* Based on the filtered data We still don't have enough evidence to state that there are no differences in conversion between the groups.\n",
    "(The p-value remains less than alpha.)\n",
    "\n",
    "* The relative gain we have from Group B is 18%, which is 2% higher.\n",
    "\n",
    "***"
   ]
  },
  {
   "cell_type": "markdown",
   "id": "201a0e58",
   "metadata": {},
   "source": [
    "### Statistical significance of the difference in average order size between the groups using the filtered data"
   ]
  },
  {
   "cell_type": "code",
   "execution_count": 63,
   "id": "98ecf9d1",
   "metadata": {
    "scrolled": true
   },
   "outputs": [
    {
     "name": "stdout",
     "output_type": "stream",
     "text": [
      "Significance of the difference: -0.006\n",
      "-----------------------------------------\n",
      "p-Value 0.897\n",
      "-----------------------------------------\n",
      "We cant reject the null hypothesis\n"
     ]
    }
   ],
   "source": [
    "print('Significance of the difference:',\"{0:.3f}\".format(\n",
    "    orders_df[np.logical_and(orders_df['group'] == 'B',np.logical_not(orders_df['visitorId'].isin(abnormal_users)))]['revenue'].mean()/\n",
    "    orders_df[np.logical_and(orders_df['group'] == 'A',np.logical_not(orders_df['visitorId'].isin(abnormal_users)))]['revenue'].mean()-1))\n",
    "\n",
    "print('-----------------------------------------')\n",
    "\n",
    "results_orders_filtered = st.mannwhitneyu(orders_df[np.logical_and(orders_df['group'] == 'A',np.logical_not(\n",
    "        orders_df['visitorId'].isin(abnormal_users)))]['revenue'],orders_df[np.logical_and(orders_df['group'] == 'B',np.logical_not(\n",
    "        orders_df['visitorId'].isin(abnormal_users)))]['revenue'])[1]\n",
    "\n",
    "print('p-Value',\"{0:.3f}\".format(results_orders_filtered))\n",
    "print('-----------------------------------------')\n",
    "if(results_orders < alpha):\n",
    "    print('We reject the null hypothesis')\n",
    "else:\n",
    "    print('We cant reject the null hypothesis')    "
   ]
  },
  {
   "cell_type": "markdown",
   "id": "3c14b211",
   "metadata": {},
   "source": [
    "* We can see that the p-value is much higher than alpha, so we still can't reject H0 and say that there is no difference in \n",
    "  average order size between the groups.\n",
    "\n",
    "* We can also see that the significance of the difference is around -1% instead of what we had with the raw data, which was \n",
    "  around 30%.\n",
    "\n",
    "  \n",
    "* If we are at a negative in our significance of the difference, that means that GroupA took back the lead from GroupB in \n",
    "  regards to the average order size.\n",
    "\n",
    "\n",
    "***"
   ]
  },
  {
   "cell_type": "markdown",
   "id": "c4f72ee3",
   "metadata": {},
   "source": [
    "### Decision based on the test results"
   ]
  },
  {
   "cell_type": "markdown",
   "id": "9b6e5252",
   "metadata": {},
   "source": [
    "**<u>Cumulative metrics summary<u/>**"
   ]
  },
  {
   "cell_type": "markdown",
   "id": "95e719ea",
   "metadata": {},
   "source": [
    "| Group | Cumulative revenue per group | Cumulative order size per group| Conversion rate per group |\n",
    "| --- | --- | --- |--- |\n",
    "| GroupB |lead| lead |lead |\n",
    "| GroupA | Not lead | Not lead |Not lead |"
   ]
  },
  {
   "cell_type": "markdown",
   "id": "e200e2f9",
   "metadata": {},
   "source": [
    "* GroupB is leading in regards to the cumulative metrics"
   ]
  },
  {
   "cell_type": "markdown",
   "id": "f974d3b2",
   "metadata": {},
   "source": [
    "**<u>Statistical test summary<u/>**"
   ]
  },
  {
   "cell_type": "markdown",
   "id": "3d4b1af7",
   "metadata": {},
   "source": [
    "| Test | Data Used | Significance|H0|Relative gain |Comment|\n",
    "| --- | --- | --- |--- |--- |--- |\n",
    "| significance of the difference in conversion between the groups |Raw| --|Reject|16% |\n",
    "| significance of the difference in average order size between the groups | Raw | ~30% |cant reject |--|\n",
    "| significance of the difference in conversion between the groups | clean |--|Reject |18% |\n",
    "| significance of the difference in average order size between the groups | clean |-1%|cant reject |--|GroupA took back the lead from GroupB|"
   ]
  },
  {
   "cell_type": "markdown",
   "id": "4ef07ca8",
   "metadata": {},
   "source": [
    "In the statistical tests, we had 83 outliers removed, and as we saw, it didn't change the tests.\n",
    "\n",
    "We can see from the results that GroupB has a clear lead and win, with a slight improvement after the clean data for the significance of the difference in average order size between the groups, allowing GroupA to have a 1% lead in order sizes but this is not significant.\n",
    "\n",
    "\n",
    "\n",
    "**Bottem line is that we can say that GroupB is the clear winner also after cleaning outliers and we can stop the test**"
   ]
  }
 ],
 "metadata": {
  "kernelspec": {
   "display_name": "Python 3 (ipykernel)",
   "language": "python",
   "name": "python3"
  },
  "language_info": {
   "codemirror_mode": {
    "name": "ipython",
    "version": 3
   },
   "file_extension": ".py",
   "mimetype": "text/x-python",
   "name": "python",
   "nbconvert_exporter": "python",
   "pygments_lexer": "ipython3",
   "version": "3.9.13"
  },
  "toc": {
   "base_numbering": 1,
   "nav_menu": {},
   "number_sections": true,
   "sideBar": true,
   "skip_h1_title": true,
   "title_cell": "Table of Contents",
   "title_sidebar": "Contents",
   "toc_cell": false,
   "toc_position": {},
   "toc_section_display": true,
   "toc_window_display": false
  }
 },
 "nbformat": 4,
 "nbformat_minor": 5
}
